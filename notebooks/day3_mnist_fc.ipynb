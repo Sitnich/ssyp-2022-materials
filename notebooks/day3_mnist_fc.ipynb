{
  "cells": [
    {
      "cell_type": "code",
      "execution_count": 480,
      "metadata": {
        "id": "DWr6cvb9pS3J"
      },
      "outputs": [],
      "source": [
        "import torch\n",
        "import random\n",
        "import numpy as np"
      ]
    },
    {
      "cell_type": "markdown",
      "source": [
        "## Классификация цифр \n",
        "Сперва мы сегодня решим задачу классификации: в датасете MNIST хранится много (порядка 60 000 тренировочных и 10 000 проверочных объектов, помеченных на принадлежность одному из десяти классов — какая цифра изображена на картинке) черно-белых картинок 28х28 с рукописными цифрами. Предлагаю нам сегодня реализовать простой классификатор, который бы угадывал цифру по картинке."
      ],
      "metadata": {
        "id": "S8vzBODy8cp1"
      }
    },
    {
      "cell_type": "code",
      "execution_count": 481,
      "metadata": {
        "id": "MqGQWTDIpS3R"
      },
      "outputs": [],
      "source": [
        "from torchvision import datasets\n",
        "# загружаем датасет MNIST из датасетов доступных в модуле torchvision.dataset \n",
        "# (train и test загружаются раздельно)\n",
        "MNIST_train = datasets.MNIST('./', download=True, train=True)\n",
        "MNIST_test = datasets.MNIST('./', download=True, train=False)"
      ]
    },
    {
      "cell_type": "code",
      "execution_count": 482,
      "metadata": {
        "colab": {
          "base_uri": "https://localhost:8080/"
        },
        "id": "vv_Lz7PYpS3U",
        "outputId": "010b612e-1557-498b-d36d-816443e34750"
      },
      "outputs": [
        {
          "output_type": "stream",
          "name": "stderr",
          "text": [
            "/usr/local/lib/python3.7/dist-packages/torchvision/datasets/mnist.py:75: UserWarning: train_data has been renamed data\n",
            "  warnings.warn(\"train_data has been renamed data\")\n",
            "/usr/local/lib/python3.7/dist-packages/torchvision/datasets/mnist.py:65: UserWarning: train_labels has been renamed targets\n",
            "  warnings.warn(\"train_labels has been renamed targets\")\n",
            "/usr/local/lib/python3.7/dist-packages/torchvision/datasets/mnist.py:80: UserWarning: test_data has been renamed data\n",
            "  warnings.warn(\"test_data has been renamed data\")\n",
            "/usr/local/lib/python3.7/dist-packages/torchvision/datasets/mnist.py:70: UserWarning: test_labels has been renamed targets\n",
            "  warnings.warn(\"test_labels has been renamed targets\")\n"
          ]
        }
      ],
      "source": [
        "# Кладем в отдельные массивы с признаками и с метками\n",
        "X_train = MNIST_train.train_data\n",
        "y_train = MNIST_train.train_labels\n",
        "X_test = MNIST_test.test_data\n",
        "y_test = MNIST_test.test_labels"
      ]
    },
    {
      "cell_type": "code",
      "execution_count": 483,
      "metadata": {
        "colab": {
          "base_uri": "https://localhost:8080/"
        },
        "id": "hMhsAedlrQF5",
        "outputId": "8c803ff4-24ba-40e7-b552-7d4a91064e23"
      },
      "outputs": [
        {
          "output_type": "execute_result",
          "data": {
            "text/plain": [
              "(torch.uint8, torch.int64)"
            ]
          },
          "metadata": {},
          "execution_count": 483
        }
      ],
      "source": [
        "X_train.dtype, y_train.dtype"
      ]
    },
    {
      "cell_type": "code",
      "execution_count": 484,
      "metadata": {
        "id": "_yTaVOrPvap6"
      },
      "outputs": [],
      "source": [
        "X_train = X_train.float()\n",
        "X_test = X_test.float()"
      ]
    },
    {
      "cell_type": "code",
      "execution_count": 485,
      "metadata": {
        "colab": {
          "base_uri": "https://localhost:8080/"
        },
        "id": "_gfupg4kpS3X",
        "outputId": "888c7ae8-38bc-484a-db7b-9dd0debc410d"
      },
      "outputs": [
        {
          "output_type": "execute_result",
          "data": {
            "text/plain": [
              "(torch.Size([60000, 28, 28]), torch.Size([10000, 28, 28]))"
            ]
          },
          "metadata": {},
          "execution_count": 485
        }
      ],
      "source": [
        "X_train.shape, X_test.shape"
      ]
    },
    {
      "cell_type": "code",
      "execution_count": 486,
      "metadata": {
        "colab": {
          "base_uri": "https://localhost:8080/"
        },
        "id": "zEC1RXBEz_SW",
        "outputId": "ad58b428-db78-4f83-cbde-98d4d70bd5f8"
      },
      "outputs": [
        {
          "output_type": "execute_result",
          "data": {
            "text/plain": [
              "(torch.Size([60000]), torch.Size([10000]))"
            ]
          },
          "metadata": {},
          "execution_count": 486
        }
      ],
      "source": [
        "y_train.shape, y_test.shape"
      ]
    },
    {
      "cell_type": "code",
      "execution_count": 487,
      "metadata": {
        "colab": {
          "base_uri": "https://localhost:8080/",
          "height": 282
        },
        "id": "Z1tFXMwJpS3e",
        "outputId": "36574a65-9594-4a12-8671-02408b8c49d3"
      },
      "outputs": [
        {
          "output_type": "display_data",
          "data": {
            "text/plain": [
              "<Figure size 432x288 with 1 Axes>"
            ],
            "image/png": "[encoded data removed]"
          },
          "metadata": {
            "needs_background": "light"
          }
        },
        {
          "output_type": "stream",
          "name": "stdout",
          "text": [
            "tensor(5)\n"
          ]
        }
      ],
      "source": [
        "import matplotlib.pyplot as plt\n",
        "# выведем пример картинки из датасета\n",
        "\n",
        "plt.imshow(X_train[0, :, :], cmap='gray')\n",
        "plt.show()\n",
        "print(y_train[0])"
      ]
    },
    {
      "cell_type": "markdown",
      "source": [
        "## Батчи"
      ],
      "metadata": {
        "id": "TE0LHTh656TE"
      }
    },
    {
      "cell_type": "markdown",
      "source": [
        "Обычно данные подаются в модель с помощью **батчей**: загружать в модель по одному экземпляру долго и неэффективно, а если попробовать загрузить все данные разом - они не поместятся в памяти. Поэтому в модель подаются батчи из данных - мы разбиваем данные на куски одинакового размера batch_size и во время обучения поочередно подаем их в модель. Тогда данные (в нашем случае - одноканальные (чернобелые) картинки) подаются в модель с таким размером: (размер батча, ширина картинки, высота картинки).\n",
        "\n",
        "Поэтому в начале forward мы решейпаем в размерность [-1, 28*28]. Здесь -1 соответствует размеру батча (метод reshape сам посчитает недостающую размерность)."
      ],
      "metadata": {
        "id": "K-tQSONMnfGu"
      }
    },
    {
      "cell_type": "code",
      "execution_count": 488,
      "metadata": {
        "id": "k7l65slppS3l"
      },
      "outputs": [],
      "source": [
        "class MNISTNet(torch.nn.Module):\n",
        "    def __init__(self, n_hidden_neurons): # задайте свои параметры для инициализации модели\n",
        "        super(MNISTNet, self).__init__()\n",
        "        # накидайте сюда слоев!\n",
        "        # давайте посоревнуемся, у кого получится написать модель которая предсказывает класс \n",
        "        # с наибольшей точностью (при запуске кода из предполедней ячейки)\n",
        "        # можно использовать любые из слоев что мы обсудили: любое количество линейных слоев (torch.nn.Linear),\n",
        "        # любые слои активации (torch.nn.Sigmoid, torch.nn.ReLU, torch.nn.Tanh)\n",
        "\n",
        "    \n",
        "    def forward(self, x):\n",
        "        x = x.reshape([-1, 28*28])\n",
        "        # делаем по аналогии с ноутбуком из предыдущей лекции - последовательно применяем слои к x\n",
        "        # и возвращаем выход модели\n",
        "        return \n",
        "    \n",
        "mnist_net = MNISTNet(10) # не забудьте добавить свои аргументы"
      ]
    },
    {
      "cell_type": "markdown",
      "source": [
        "## Работа с GPU"
      ],
      "metadata": {
        "id": "__wvw6I650n9"
      }
    },
    {
      "cell_type": "markdown",
      "source": [
        "Также давайте впервые попробуем поработать с вычислительными мощностями, которые предоставляет google colab - до этого все вычисления проводились на cpu (центральном процессоре), что занимает сильно больше времени, чем если бы мы полльзовались видеокартой. Чтобы изменить среду выполнения, зайдите в окно \"Среда выполнения\" и выберите там аппаратный ускоритель GPU."
      ],
      "metadata": {
        "id": "p0Nsn6IQ3_eQ"
      }
    },
    {
      "cell_type": "code",
      "execution_count": 489,
      "metadata": {
        "colab": {
          "base_uri": "https://localhost:8080/"
        },
        "id": "FJp7t3dR0pC5",
        "outputId": "9f894843-1068-41ba-87b0-859855c7d28b"
      },
      "outputs": [
        {
          "output_type": "execute_result",
          "data": {
            "text/plain": [
              "True"
            ]
          },
          "metadata": {},
          "execution_count": 489
        }
      ],
      "source": [
        "torch.cuda.is_available()"
      ]
    },
    {
      "cell_type": "code",
      "execution_count": 490,
      "metadata": {
        "colab": {
          "base_uri": "https://localhost:8080/"
        },
        "id": "ShQDv_w-0rz8",
        "outputId": "a4d30366-f3ea-4957-b0f5-54d5cac438b8"
      },
      "outputs": [
        {
          "output_type": "stream",
          "name": "stdout",
          "text": [
            "Tue Jul 19 17:12:01 2022       \n",
            "+-----------------------------------------------------------------------------+\n",
            "| NVIDIA-SMI 460.32.03    Driver Version: 460.32.03    CUDA Version: 11.2     |\n",
            "|-------------------------------+----------------------+----------------------+\n",
            "| GPU  Name        Persistence-M| Bus-Id        Disp.A | Volatile Uncorr. ECC |\n",
            "| Fan  Temp  Perf  Pwr:Usage/Cap|         Memory-Usage | GPU-Util  Compute M. |\n",
            "|                               |                      |               MIG M. |\n",
            "|===============================+======================+======================|\n",
            "|   0  Tesla T4            Off  | 00000000:00:04.0 Off |                    0 |\n",
            "| N/A   46C    P0    27W /  70W |    920MiB / 15109MiB |      0%      Default |\n",
            "|                               |                      |                  N/A |\n",
            "+-------------------------------+----------------------+----------------------+\n",
            "                                                                               \n",
            "+-----------------------------------------------------------------------------+\n",
            "| Processes:                                                                  |\n",
            "|  GPU   GI   CI        PID   Type   Process name                  GPU Memory |\n",
            "|        ID   ID                                                   Usage      |\n",
            "|=============================================================================|\n",
            "+-----------------------------------------------------------------------------+\n"
          ]
        }
      ],
      "source": [
        "!nvidia-smi"
      ]
    },
    {
      "cell_type": "markdown",
      "source": [
        "Чтобы проводить вычисления на видеокарте, нужно перенести все тензоры (с которыми собираемся проводить вычисления) на GPU. Метод torch.Tensor.to() позволяет это делать и переносит тензор на другое устройство (в нашем случае - на GPU). "
      ],
      "metadata": {
        "id": "YG6gslsw6q6Z"
      }
    },
    {
      "cell_type": "code",
      "execution_count": 491,
      "metadata": {
        "id": "iUHy-780po9d"
      },
      "outputs": [],
      "source": [
        "device = torch.device('cuda:0' if torch.cuda.is_available() else 'cpu') # проверяем, доступна ли нам видеокарта\n",
        "                                                                        # если нет, продолжаем работать на cpu\n",
        "mnist_net = mnist_net.to(device)\n",
        "#list(mnist_net.parameters())"
      ]
    },
    {
      "cell_type": "markdown",
      "source": [
        "Помимо изменения кода для класса MNISTNet, можно менять и другие параметры модели: оптимизатор, размер батча, количество эпох, и т.д..."
      ],
      "metadata": {
        "id": "HRygh0_t3oGh"
      }
    },
    {
      "cell_type": "code",
      "execution_count": 492,
      "metadata": {
        "id": "00_2j2igpS3o"
      },
      "outputs": [],
      "source": [
        "loss = torch.nn.CrossEntropyLoss()\n",
        "optimizer = torch.optim.Adam(mnist_net.parameters(), lr=1.0e-3) "
      ]
    },
    {
      "cell_type": "code",
      "execution_count": 493,
      "metadata": {
        "colab": {
          "base_uri": "https://localhost:8080/"
        },
        "id": "wZtqiGvfpS3r",
        "outputId": "41c5e78d-19fb-412d-ecfb-fe48bc6cba1c"
      },
      "outputs": [
        {
          "output_type": "stream",
          "name": "stdout",
          "text": [
            "tensor(0.7950, device='cuda:0')\n",
            "tensor(0.8075, device='cuda:0')\n",
            "tensor(0.8252, device='cuda:0')\n",
            "tensor(0.8294, device='cuda:0')\n",
            "tensor(0.8396, device='cuda:0')\n",
            "tensor(0.8363, device='cuda:0')\n",
            "tensor(0.8403, device='cuda:0')\n",
            "tensor(0.8477, device='cuda:0')\n",
            "tensor(0.8405, device='cuda:0')\n",
            "tensor(0.8341, device='cuda:0')\n"
          ]
        }
      ],
      "source": [
        "batch_size = 100\n",
        "\n",
        "test_accuracy_history = []\n",
        "test_loss_history = []\n",
        "\n",
        "X_test = X_test.to(device)\n",
        "y_test = y_test.to(device)\n",
        "\n",
        "for epoch in range(10):\n",
        "    order = np.random.permutation(len(X_train))\n",
        "    \n",
        "    for start_index in range(0, len(X_train), batch_size):\n",
        "        optimizer.zero_grad()\n",
        "        \n",
        "        batch_indexes = order[start_index:start_index+batch_size]\n",
        "        \n",
        "        X_batch = X_train[batch_indexes].to(device)\n",
        "        y_batch = y_train[batch_indexes].to(device)\n",
        "        \n",
        "        preds = mnist_net.forward(X_batch) \n",
        "\n",
        "        loss_value = loss(preds, y_batch)\n",
        "        loss_value.backward()\n",
        "        \n",
        "        optimizer.step()\n",
        "\n",
        "    test_preds = mnist_net.forward(X_test)\n",
        "    test_loss_history.append(loss(test_preds, y_test).cpu().detach().numpy())\n",
        "    \n",
        "    accuracy = (test_preds.argmax(dim=1) == y_test).float().mean()\n",
        "    test_accuracy_history.append(accuracy.cpu())\n",
        "    print(accuracy)"
      ]
    },
    {
      "cell_type": "code",
      "execution_count": 494,
      "metadata": {
        "colab": {
          "base_uri": "https://localhost:8080/",
          "height": 283
        },
        "id": "kLnumX3SpS3u",
        "outputId": "e5be2a77-f57c-4461-f881-52b94796fd3d"
      },
      "outputs": [
        {
          "output_type": "execute_result",
          "data": {
            "text/plain": [
              "[<matplotlib.lines.Line2D at 0x7fd7403cffd0>]"
            ]
          },
          "metadata": {},
          "execution_count": 494
        },
        {
          "output_type": "display_data",
          "data": {
            "text/plain": [
              "<Figure size 432x288 with 1 Axes>"
            ],
            "image/png": "[encoded data removed]"
          },
          "metadata": {
            "needs_background": "light"
          }
        }
      ],
      "source": [
        "plt.plot(test_accuracy_history)\n",
        "plt.plot(test_loss_history)"
      ]
    },
    {
      "cell_type": "markdown",
      "source": [
        "То как мы сейчас загрузили данные и подали их на обучение - было правильно, но можно это упростить! Мы попробуем загрузить данные в так называемый dataloader - это итератор, в котором хранится датасет (и признаки (пиксели картинки) и метки (цифра на картинке)). Инициализируя этот класс мы можем с помощью ключа shuffle=True перемешать данные, а аргументом batch_size=10 передать размер батча."
      ],
      "metadata": {
        "id": "58HSZpI-HUTx"
      }
    },
    {
      "cell_type": "code",
      "source": [
        "from torchvision import transforms"
      ],
      "metadata": {
        "id": "QH8xBwBqNWfg"
      },
      "execution_count": 495,
      "outputs": []
    },
    {
      "cell_type": "code",
      "execution_count": 496,
      "metadata": {
        "id": "-nu1318JpS3y"
      },
      "outputs": [],
      "source": [
        "train_loader = torch.utils.data.DataLoader(datasets.MNIST('./', \n",
        "                                                          download=True, \n",
        "                                                          train=True,\n",
        "                                                          transform=transforms.Compose([\n",
        "                                                              transforms.ToTensor(),\n",
        "                                                          ])),\n",
        "                                           batch_size=100, \n",
        "                                           pin_memory=True,\n",
        "                                           shuffle=True)\n"
      ]
    },
    {
      "cell_type": "code",
      "source": [
        "mnist_net = MNISTNet(10) # не забудьте добавить свои аргументы\n",
        "mnist_net = mnist_net.to(device)\n",
        "\n",
        "test_accuracy_history = []\n",
        "test_loss_history = []\n",
        "\n",
        "loss = torch.nn.CrossEntropyLoss()\n",
        "optimizer = torch.optim.Adam(mnist_net.parameters(), lr=1.0e-3) \n",
        "\n",
        "for epoch in range(10):\n",
        "    for data, label in train_loader:\n",
        "\n",
        "        data = data.to(device)\n",
        "        label = label.to(device)\n",
        "        \n",
        "        # благодаря даталоадеру можно не разбивать на батчи датасеты\n",
        "        optimizer.zero_grad()\n",
        "        preds = mnist_net(data)\n",
        "        loss_value = loss(preds, label)\n",
        "        loss_value.backward()\n",
        "        optimizer.step()\n",
        "\n",
        "    test_preds = mnist_net.forward(X_test)\n",
        "    test_loss_history.append(loss(test_preds, y_test).cpu().detach().numpy())\n",
        "    \n",
        "    accuracy = (test_preds.argmax(dim=1) == y_test).float().mean()\n",
        "    test_accuracy_history.append(accuracy.cpu())\n",
        "    print(accuracy)"
      ],
      "metadata": {
        "colab": {
          "base_uri": "https://localhost:8080/"
        },
        "id": "_iwQvVT4KPE1",
        "outputId": "e423583c-78d6-4820-800c-81cab1b13bbb"
      },
      "execution_count": 497,
      "outputs": [
        {
          "output_type": "stream",
          "name": "stdout",
          "text": [
            "tensor(0.8181, device='cuda:0')\n",
            "tensor(0.8586, device='cuda:0')\n",
            "tensor(0.8779, device='cuda:0')\n",
            "tensor(0.8832, device='cuda:0')\n",
            "tensor(0.8896, device='cuda:0')\n",
            "tensor(0.8870, device='cuda:0')\n",
            "tensor(0.8903, device='cuda:0')\n",
            "tensor(0.8897, device='cuda:0')\n",
            "tensor(0.8922, device='cuda:0')\n",
            "tensor(0.8887, device='cuda:0')\n"
          ]
        }
      ]
    },
    {
      "cell_type": "markdown",
      "source": [
        "Вы могли заметить что решение с даталоадером работает в разы дольше - возможно это из-за того что приходится обрабатывать 4-мерный массив (размер батча х количество каналов (1) х ширина картинки х высота картинки) вместо 3-мерного. Тем не менее обычно во время обучения используют его и похожих проблем не встречается.\n",
        "\n",
        "Более того, если датасет обработан криво и требует трансформаций (например, привести все картинки к квадратному виду или одному размеру), даталоадер позволяет через ключ transforms провести необходимые преобразования."
      ],
      "metadata": {
        "id": "fj9FBjjgZqfB"
      }
    }
  ],
  "metadata": {
    "accelerator": "GPU",
    "colab": {
      "collapsed_sections": [],
      "name": "day3_mnist_fc.ipynb",
      "provenance": []
    },
    "kernelspec": {
      "display_name": "Python 3",
      "language": "python",
      "name": "python3"
    },
    "language_info": {
      "codemirror_mode": {
        "name": "ipython",
        "version": 3
      },
      "file_extension": ".py",
      "mimetype": "text/x-python",
      "name": "python",
      "nbconvert_exporter": "python",
      "pygments_lexer": "ipython3",
      "version": "3.6.8"
    },
    "gpuClass": "standard"
  },
  "nbformat": 4,
  "nbformat_minor": 0
}