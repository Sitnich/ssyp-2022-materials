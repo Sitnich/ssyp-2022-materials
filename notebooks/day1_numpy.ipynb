{
  "nbformat": 4,
  "nbformat_minor": 0,
  "metadata": {
    "colab": {
      "name": "day1_numpy",
      "provenance": [],
      "collapsed_sections": [],
      "toc_visible": true
    },
    "kernelspec": {
      "name": "python3",
      "display_name": "Python 3"
    }
  },
  "cells": [
    {
      "cell_type": "markdown",
      "metadata": {
        "id": "9KE-N3ZCFZ_f"
      },
      "source": [
        "## Основы numpy"
      ]
    },
    {
      "cell_type": "markdown",
      "metadata": {
        "id": "uNq3NprkTyc0"
      },
      "source": [
        "Давайте знакомиться с библиотекой NumPy (Numeric Python)! \n",
        "\n",
        "Это библиотека Python с открытым исходным кодом, которая активно используется во многих технических областях, в том числе - в машинном обучении. Numpy можно назвать стандартом для работы с числовыми данными в Python, его API широко используется в пакетах Pandas, SciPy, Matplotlib, scikit-learn, scikit-image и в большинстве других научных пакетов Python. Библиотека вводит полезный тип данных с названием ndarray, о котором можно думать как о n-мерной матрице, и методы для эффективной работы с ним. NumPy может использоваться для выполнения множества математических операций над такими массивами, чем мы впоследствии будем пользоваться при реализации нейронных сетей и генеративных моделей."
      ]
    },
    {
      "cell_type": "code",
      "metadata": {
        "id": "8EYfPdxWhqwI",
        "colab": {
          "base_uri": "https://localhost:8080/"
        },
        "outputId": "fb9e14c2-ce6f-4f71-9a8b-8839cba0ebd6"
      },
      "source": [
        "# установим библиотеку\n",
        "!pip install numpy"
      ],
      "execution_count": 1,
      "outputs": [
        {
          "output_type": "stream",
          "name": "stdout",
          "text": [
            "Looking in indexes: https://pypi.org/simple, https://us-python.pkg.dev/colab-wheels/public/simple/\n",
            "Requirement already satisfied: numpy in /usr/local/lib/python3.7/dist-packages (1.21.6)\n"
          ]
        }
      ]
    },
    {
      "cell_type": "code",
      "metadata": {
        "id": "SRFLXDcVBOBm"
      },
      "source": [
        "# импортируем её\n",
        "import numpy as np"
      ],
      "execution_count": 2,
      "outputs": []
    },
    {
      "cell_type": "markdown",
      "metadata": {
        "id": "mIJ5jaIJGmgh"
      },
      "source": [
        "### Array (ndarray)\n",
        "\n",
        "Главный объект numpy - array. N-мерные массивы схожи со списками в python, но элементы массива должны иметь одинаковый тип данных. С массивами можно проводить числовые операции с большим объемом информации в разы быстрее и, главное, намного эффективнее чем со списками."
      ]
    },
    {
      "cell_type": "code",
      "metadata": {
        "id": "j5iz_57WFv0Q",
        "colab": {
          "base_uri": "https://localhost:8080/"
        },
        "outputId": "cb7ada5c-7585-445e-a086-019dd84c6094"
      },
      "source": [
        "a = np.array([1, 2, 3, 4, 5])\n",
        "print(a, '|', type(a))"
      ],
      "execution_count": 3,
      "outputs": [
        {
          "output_type": "stream",
          "name": "stdout",
          "text": [
            "[1 2 3 4 5] | <class 'numpy.ndarray'>\n"
          ]
        }
      ]
    },
    {
      "cell_type": "code",
      "source": [
        "a.dtype"
      ],
      "metadata": {
        "colab": {
          "base_uri": "https://localhost:8080/"
        },
        "id": "SAp6Icb-iSR-",
        "outputId": "6fef9923-41c5-46d9-badd-29d106141da8"
      },
      "execution_count": 4,
      "outputs": [
        {
          "output_type": "execute_result",
          "data": {
            "text/plain": [
              "dtype('int64')"
            ]
          },
          "metadata": {},
          "execution_count": 4
        }
      ]
    },
    {
      "cell_type": "markdown",
      "metadata": {
        "id": "G6i_WCAPQ04r"
      },
      "source": [
        "### Срезы"
      ]
    },
    {
      "cell_type": "markdown",
      "metadata": {
        "id": "JGC-tBgsHjWw"
      },
      "source": [
        "Очень важно уметь манипулировать элементами массива. Наверное, использование срезов это одна из наиболее частых операций при работе с данными, и c ndarray они работают также как и с питоновскими списками:"
      ]
    },
    {
      "cell_type": "code",
      "metadata": {
        "id": "lgqkCzJcGgrT",
        "colab": {
          "base_uri": "https://localhost:8080/"
        },
        "outputId": "250767f3-97ad-4657-bf33-fa970596e2d3"
      },
      "source": [
        "a[:2]"
      ],
      "execution_count": 5,
      "outputs": [
        {
          "output_type": "execute_result",
          "data": {
            "text/plain": [
              "array([1, 2])"
            ]
          },
          "metadata": {},
          "execution_count": 5
        }
      ]
    },
    {
      "cell_type": "code",
      "metadata": {
        "id": "FwDb4esyIehG",
        "colab": {
          "base_uri": "https://localhost:8080/"
        },
        "outputId": "fcdf92ba-020d-48c9-cdc4-d04c5f3d5e6a"
      },
      "source": [
        "a[::2]"
      ],
      "execution_count": 6,
      "outputs": [
        {
          "output_type": "execute_result",
          "data": {
            "text/plain": [
              "array([1, 3, 5])"
            ]
          },
          "metadata": {},
          "execution_count": 6
        }
      ]
    },
    {
      "cell_type": "markdown",
      "metadata": {
        "id": "ntIhxQu-lqcg"
      },
      "source": [
        "Многомерный массив является центральной структурой данных библиотеки NumPy. Все элементы имеют одинаковый тип, хранимый в dtype. Ранг массива - это число измерений. Форма массива представляет собой набор целых чисел, дающих размер массива по каждому измерению."
      ]
    },
    {
      "cell_type": "code",
      "metadata": {
        "id": "-y9ccrqgI5SB",
        "colab": {
          "base_uri": "https://localhost:8080/"
        },
        "outputId": "8d053337-9f51-4a1b-f1f5-a255bf1b6a83"
      },
      "source": [
        "a = np.array([[1, 2, 3], [4, 5, 6]], float)\n",
        "print(a, '|', type(a))"
      ],
      "execution_count": 7,
      "outputs": [
        {
          "output_type": "stream",
          "name": "stdout",
          "text": [
            "[[1. 2. 3.]\n",
            " [4. 5. 6.]] | <class 'numpy.ndarray'>\n"
          ]
        }
      ]
    },
    {
      "cell_type": "markdown",
      "metadata": {
        "id": "jNGJ3q9Ol8q-"
      },
      "source": [
        "Мы можем получить доступ к элементам в массиве, используя квадратные скобки. Когда вы обращаетесь к элементам, помните, что индексирование в NumPy начинается с 0. "
      ]
    },
    {
      "cell_type": "code",
      "metadata": {
        "id": "WHafGLZsl2kW",
        "colab": {
          "base_uri": "https://localhost:8080/"
        },
        "outputId": "9d6217f1-d9b9-4d2e-f770-c16a714a1b8b"
      },
      "source": [
        "a[0]"
      ],
      "execution_count": 8,
      "outputs": [
        {
          "output_type": "execute_result",
          "data": {
            "text/plain": [
              "array([1., 2., 3.])"
            ]
          },
          "metadata": {},
          "execution_count": 8
        }
      ]
    },
    {
      "cell_type": "code",
      "metadata": {
        "id": "2_xs0G87JGXZ",
        "colab": {
          "base_uri": "https://localhost:8080/"
        },
        "outputId": "1e8d4a64-56ec-44f0-c6c0-22d44109bd24"
      },
      "source": [
        "a[1,2]"
      ],
      "execution_count": 9,
      "outputs": [
        {
          "output_type": "execute_result",
          "data": {
            "text/plain": [
              "6.0"
            ]
          },
          "metadata": {},
          "execution_count": 9
        }
      ]
    },
    {
      "cell_type": "markdown",
      "metadata": {
        "id": "6u5ulqzCJnOA"
      },
      "source": [
        "Срезы в многомерных массивах работают аналогично с одномерными, и каждый срез применяется как фильтр для установленного измерения. Используйте \":\" в измерении для указывания использования всех элементов этого измерения:"
      ]
    },
    {
      "cell_type": "code",
      "metadata": {
        "id": "emqvgdlPJfvy",
        "colab": {
          "base_uri": "https://localhost:8080/"
        },
        "outputId": "29888c53-2fbd-41fb-909a-89eba4820e49"
      },
      "source": [
        "a = np.array([[1, 2, 3], [4, 5, 6]], float)\n",
        "# выбрали элементы с шагом 2 второй строки массива\n",
        "a[1,::2]"
      ],
      "execution_count": 10,
      "outputs": [
        {
          "output_type": "execute_result",
          "data": {
            "text/plain": [
              "array([4., 6.])"
            ]
          },
          "metadata": {},
          "execution_count": 10
        }
      ]
    },
    {
      "cell_type": "markdown",
      "metadata": {
        "id": "bPD2ekyVmXlZ"
      },
      "source": [
        "У массива может быть разное количество измерений: 1-D массиву соответствует вектор (причем это может бытькак вектор-строка, так и вектор-столбец), 2-D массиву - двумерная матрица. Для трехмерных или более крупных размерных массивов также обычно используется термин тензор."
      ]
    },
    {
      "cell_type": "code",
      "metadata": {
        "id": "8IHKE2Nhm_UF",
        "colab": {
          "base_uri": "https://localhost:8080/"
        },
        "outputId": "e2a333e8-1707-4c9b-f1bc-935632abca10"
      },
      "source": [
        "a"
      ],
      "execution_count": 11,
      "outputs": [
        {
          "output_type": "execute_result",
          "data": {
            "text/plain": [
              "array([[1., 2., 3.],\n",
              "       [4., 5., 6.]])"
            ]
          },
          "metadata": {},
          "execution_count": 11
        }
      ]
    },
    {
      "cell_type": "markdown",
      "metadata": {
        "id": "pTH2acWQKL-z"
      },
      "source": [
        "Метод shape возвращает количество строк и столбцов в матрице:"
      ]
    },
    {
      "cell_type": "code",
      "metadata": {
        "id": "ucg9Cu_oJr1C",
        "colab": {
          "base_uri": "https://localhost:8080/"
        },
        "outputId": "7f9da7c6-964e-4fab-e0bd-89f1a1eb0146"
      },
      "source": [
        "a.shape"
      ],
      "execution_count": 12,
      "outputs": [
        {
          "output_type": "execute_result",
          "data": {
            "text/plain": [
              "(2, 3)"
            ]
          },
          "metadata": {},
          "execution_count": 12
        }
      ]
    },
    {
      "cell_type": "markdown",
      "metadata": {
        "id": "4k_H-0hTnRlu"
      },
      "source": [
        "### Создание массива"
      ]
    },
    {
      "cell_type": "markdown",
      "metadata": {
        "id": "VCWO0BB3npBi"
      },
      "source": [
        "Чтобы создать простой массив ndarray, можно просто передать ему список. При желании вы также можете указать тип данных в вашем списке. О типах данных можно почитать [здесь](https://numpy.org/devdocs/reference/arrays.dtypes.html#arrays-dtypes)."
      ]
    },
    {
      "cell_type": "markdown",
      "metadata": {
        "id": "3_HOrmimoC3V"
      },
      "source": [
        "Помимо создания массива из последовательности элементов, вы можете легко создать массив, заполненный нулями:"
      ]
    },
    {
      "cell_type": "code",
      "metadata": {
        "id": "nWYRA4ULoE5Q",
        "colab": {
          "base_uri": "https://localhost:8080/"
        },
        "outputId": "c477dbb4-e942-4083-ab24-3a612f6f6a89"
      },
      "source": [
        "np.zeros(10)"
      ],
      "execution_count": 13,
      "outputs": [
        {
          "output_type": "execute_result",
          "data": {
            "text/plain": [
              "array([0., 0., 0., 0., 0., 0., 0., 0., 0., 0.])"
            ]
          },
          "metadata": {},
          "execution_count": 13
        }
      ]
    },
    {
      "cell_type": "markdown",
      "metadata": {
        "id": "nESfagPYoOUJ"
      },
      "source": [
        "Или массив, заполненный 1:"
      ]
    },
    {
      "cell_type": "code",
      "metadata": {
        "id": "goBHSkCjoKM9",
        "colab": {
          "base_uri": "https://localhost:8080/"
        },
        "outputId": "f2a719df-5ff7-42c0-a310-02610a3c9de3"
      },
      "source": [
        "np.ones(8)"
      ],
      "execution_count": 14,
      "outputs": [
        {
          "output_type": "execute_result",
          "data": {
            "text/plain": [
              "array([1., 1., 1., 1., 1., 1., 1., 1.])"
            ]
          },
          "metadata": {},
          "execution_count": 14
        }
      ]
    },
    {
      "cell_type": "markdown",
      "metadata": {
        "id": "PK2PaaYcoT4A"
      },
      "source": [
        "Или даже пустой массив! Функция empty создает массив, исходное содержимое которого является случайным и зависит от состояния памяти. Причиной использования пустых над нулями (или чего-то подобного) является скорость - просто убедитесь, что впоследствии не забыли заполнить массив не-мусорными данными!"
      ]
    },
    {
      "cell_type": "code",
      "metadata": {
        "id": "QK8EV7w1oW4-",
        "colab": {
          "base_uri": "https://localhost:8080/"
        },
        "outputId": "a379cc31-8234-46e9-dfe0-4102ad518ae3"
      },
      "source": [
        "np.empty(4)"
      ],
      "execution_count": 15,
      "outputs": [
        {
          "output_type": "execute_result",
          "data": {
            "text/plain": [
              "array([5.e-324, 5.e-324, 5.e-324, 0.e+000])"
            ]
          },
          "metadata": {},
          "execution_count": 15
        }
      ]
    },
    {
      "cell_type": "markdown",
      "metadata": {
        "id": "pb3TAj_WofuF"
      },
      "source": [
        "Можно создать массив с диапазоном элементов:"
      ]
    },
    {
      "cell_type": "code",
      "metadata": {
        "id": "3OZ91PVYojBR",
        "colab": {
          "base_uri": "https://localhost:8080/"
        },
        "outputId": "eda0216c-248d-47ad-9f3d-53ded413c842"
      },
      "source": [
        "np.arange(4)"
      ],
      "execution_count": 16,
      "outputs": [
        {
          "output_type": "execute_result",
          "data": {
            "text/plain": [
              "array([0, 1, 2, 3])"
            ]
          },
          "metadata": {},
          "execution_count": 16
        }
      ]
    },
    {
      "cell_type": "markdown",
      "metadata": {
        "id": "uCU5yT0lom6p"
      },
      "source": [
        "И даже массив, который содержит диапазон равномерно распределенных интервалов. Для этого вам необходимо указать первое число, последнее число и размер шага."
      ]
    },
    {
      "cell_type": "code",
      "metadata": {
        "id": "6Kd1nDzWoqD_",
        "colab": {
          "base_uri": "https://localhost:8080/"
        },
        "outputId": "04d51f6a-9b8f-442c-826b-6aed545ba029"
      },
      "source": [
        "np.arange(2, 9, 2)"
      ],
      "execution_count": 17,
      "outputs": [
        {
          "output_type": "execute_result",
          "data": {
            "text/plain": [
              "array([2, 4, 6, 8])"
            ]
          },
          "metadata": {},
          "execution_count": 17
        }
      ]
    },
    {
      "cell_type": "markdown",
      "metadata": {
        "id": "IfBLvNU0oubi"
      },
      "source": [
        "Вы также можете использовать np.linspace() для создания массива со значениями, которые расположены линейно с заданным интервалом:"
      ]
    },
    {
      "cell_type": "code",
      "metadata": {
        "id": "xkgMhU9Mo8ZL",
        "colab": {
          "base_uri": "https://localhost:8080/"
        },
        "outputId": "5ecd4f70-4157-4fd1-d085-0ede938ea90d"
      },
      "source": [
        "# от 0 до 10, 5 чисел с равным шагом\n",
        "np.linspace(0, 10, 5)"
      ],
      "execution_count": 18,
      "outputs": [
        {
          "output_type": "execute_result",
          "data": {
            "text/plain": [
              "array([ 0. ,  2.5,  5. ,  7.5, 10. ])"
            ]
          },
          "metadata": {},
          "execution_count": 18
        }
      ]
    },
    {
      "cell_type": "markdown",
      "metadata": {
        "id": "OYLtCerbKV6-"
      },
      "source": [
        "float64, это числовой тип данных в numpy, который используется для хранения вещественных чисел двойной точности по аналогии с float в Python.\n",
        "\n",
        "Метод dtype возвращает тип переменных, хранящихся в массиве:"
      ]
    },
    {
      "cell_type": "code",
      "metadata": {
        "id": "QwIOEoR0KMWB",
        "colab": {
          "base_uri": "https://localhost:8080/"
        },
        "outputId": "97910127-6a87-4ea1-b2ef-b23db30e773f"
      },
      "source": [
        "a.dtype"
      ],
      "execution_count": 19,
      "outputs": [
        {
          "output_type": "execute_result",
          "data": {
            "text/plain": [
              "dtype('float64')"
            ]
          },
          "metadata": {},
          "execution_count": 19
        }
      ]
    },
    {
      "cell_type": "markdown",
      "metadata": {
        "id": "Cz1PRy0npKx7"
      },
      "source": [
        "Хотя тип данных по умолчанию - с плавающей запятой (np.float64), вы можете явно указать, какой тип данных вы хотите, используя ключевое слово dtype."
      ]
    },
    {
      "cell_type": "code",
      "metadata": {
        "id": "KvT0RepXpOOf",
        "colab": {
          "base_uri": "https://localhost:8080/"
        },
        "outputId": "340f42a2-c5dc-4417-e92f-b3df30452881"
      },
      "source": [
        "x = np.ones(2, dtype=np.int64)\n",
        "x"
      ],
      "execution_count": 20,
      "outputs": [
        {
          "output_type": "execute_result",
          "data": {
            "text/plain": [
              "array([1, 1])"
            ]
          },
          "metadata": {},
          "execution_count": 20
        }
      ]
    },
    {
      "cell_type": "markdown",
      "metadata": {
        "id": "kvQlzOTvpYIH"
      },
      "source": [
        "### Добавление, удаление и сортировка элементов"
      ]
    },
    {
      "cell_type": "markdown",
      "metadata": {
        "id": "osppJ4HbpgLZ"
      },
      "source": [
        "Сортировать элементы можно с помощью np.sort() (кому интересно, по умолчанию используется алгоритм timsort). Вы можете указать ось, вид и порядок при вызове функции."
      ]
    },
    {
      "cell_type": "code",
      "metadata": {
        "id": "V4T8rBfqpbvF",
        "colab": {
          "base_uri": "https://localhost:8080/"
        },
        "outputId": "6d76771d-d150-4cad-9057-e272d6f530f7"
      },
      "source": [
        "arr = np.array([2, 1, 5, 3, 7, 4, 6, 8])\n",
        "# Вы можете быстро отсортировать числа в порядке возрастания с помощью:\n",
        "np.sort(arr)"
      ],
      "execution_count": 21,
      "outputs": [
        {
          "output_type": "execute_result",
          "data": {
            "text/plain": [
              "array([1, 2, 3, 4, 5, 6, 7, 8])"
            ]
          },
          "metadata": {},
          "execution_count": 21
        }
      ]
    },
    {
      "cell_type": "markdown",
      "metadata": {
        "id": "5m17DmYQpyz6"
      },
      "source": [
        "В дополнение к sort, который возвращает отсортированную копию массива, вы можете использовать:\n",
        "\n",
        "* argsort, который является косвенной сортировкой вдоль указанной оси,\n",
        "\n",
        "* lexsort, который является косвенной стабильной сортировкой по нескольким ключам,\n",
        "\n",
        "* searchsorted, который найдет элементы в отсортированном массиве, и\n",
        "\n",
        "* partition, который является частичной сортировкой."
      ]
    },
    {
      "cell_type": "markdown",
      "metadata": {
        "id": "Y1NCCjF4p-o9"
      },
      "source": [
        "Все надстройки смотрите [тут](https://numpy.org/devdocs/reference/generated/numpy.sort.html#numpy.sort)"
      ]
    },
    {
      "cell_type": "markdown",
      "metadata": {
        "id": "c_h6PtF4qVmN"
      },
      "source": [
        "Чтобы удалить элементы из массива, просто использовать индексирование для выбора элементов, которые вы хотите сохранить."
      ]
    },
    {
      "cell_type": "code",
      "metadata": {
        "id": "SCOh4ipMqWeh",
        "colab": {
          "base_uri": "https://localhost:8080/"
        },
        "outputId": "3f2fb9ad-44cc-4288-8211-870d9ee8231f"
      },
      "source": [
        "a = np.array([1, 2, 3])\n",
        "# берем элементы на первом и 2 индексе\n",
        "a = a[[1, 2]]\n",
        "a"
      ],
      "execution_count": 22,
      "outputs": [
        {
          "output_type": "execute_result",
          "data": {
            "text/plain": [
              "array([2, 3])"
            ]
          },
          "metadata": {},
          "execution_count": 22
        }
      ]
    },
    {
      "cell_type": "markdown",
      "metadata": {
        "id": "Cz2zWZuLqllZ"
      },
      "source": [
        "### Форма и размер массива"
      ]
    },
    {
      "cell_type": "code",
      "metadata": {
        "id": "BITDwCJUqwN9"
      },
      "source": [
        "a = np.array([[1, 2, 3], [4, 5, 6]], float)"
      ],
      "execution_count": 23,
      "outputs": []
    },
    {
      "cell_type": "markdown",
      "metadata": {
        "id": "PpAFKnfhLVGe"
      },
      "source": [
        "Метод len возвращает длину первого измерения (оси):"
      ]
    },
    {
      "cell_type": "code",
      "metadata": {
        "id": "U2c3WjumKXYx",
        "colab": {
          "base_uri": "https://localhost:8080/"
        },
        "outputId": "7c95a82a-c717-42f3-939b-d7b08fa96e83"
      },
      "source": [
        "len(a)"
      ],
      "execution_count": 24,
      "outputs": [
        {
          "output_type": "execute_result",
          "data": {
            "text/plain": [
              "2"
            ]
          },
          "metadata": {},
          "execution_count": 24
        }
      ]
    },
    {
      "cell_type": "markdown",
      "metadata": {
        "id": "ncIU5L75LY6k"
      },
      "source": [
        "По аналогии с list можно проверять вхождение элемента."
      ]
    },
    {
      "cell_type": "code",
      "metadata": {
        "id": "jAyom_YvLWvh",
        "colab": {
          "base_uri": "https://localhost:8080/"
        },
        "outputId": "33ec3c6a-cd17-4e17-cd2d-2ff59ca8d5f7"
      },
      "source": [
        "6 in a"
      ],
      "execution_count": 25,
      "outputs": [
        {
          "output_type": "execute_result",
          "data": {
            "text/plain": [
              "True"
            ]
          },
          "metadata": {},
          "execution_count": 25
        }
      ]
    },
    {
      "cell_type": "code",
      "source": [
        "6 in a[0]"
      ],
      "metadata": {
        "colab": {
          "base_uri": "https://localhost:8080/"
        },
        "id": "qL9XcGTIzw3n",
        "outputId": "51f65363-c5da-4472-8594-86a77a5f5d8f"
      },
      "execution_count": 26,
      "outputs": [
        {
          "output_type": "execute_result",
          "data": {
            "text/plain": [
              "False"
            ]
          },
          "metadata": {},
          "execution_count": 26
        }
      ]
    },
    {
      "cell_type": "markdown",
      "metadata": {
        "id": "JD-TyzcLrDLe"
      },
      "source": [
        "Чтобы узнать количество измерений массива, запустите:"
      ]
    },
    {
      "cell_type": "code",
      "metadata": {
        "id": "HGKZLLohrHB9",
        "colab": {
          "base_uri": "https://localhost:8080/"
        },
        "outputId": "7ebf5075-2776-48ea-d599-585cfa27a473"
      },
      "source": [
        "a.ndim"
      ],
      "execution_count": 27,
      "outputs": [
        {
          "output_type": "execute_result",
          "data": {
            "text/plain": [
              "2"
            ]
          },
          "metadata": {},
          "execution_count": 27
        }
      ]
    },
    {
      "cell_type": "markdown",
      "metadata": {
        "id": "do2_k1p4rLJ-"
      },
      "source": [
        "Чтобы найти общее количество элементов в массиве, запустите:"
      ]
    },
    {
      "cell_type": "code",
      "metadata": {
        "id": "89f46N-SrJ2q",
        "colab": {
          "base_uri": "https://localhost:8080/"
        },
        "outputId": "9543039b-949b-4154-ebaf-f2f4effbf12e"
      },
      "source": [
        "a.size"
      ],
      "execution_count": 28,
      "outputs": [
        {
          "output_type": "execute_result",
          "data": {
            "text/plain": [
              "6"
            ]
          },
          "metadata": {},
          "execution_count": 28
        }
      ]
    },
    {
      "cell_type": "markdown",
      "metadata": {
        "id": "A3mqax-MrRi2"
      },
      "source": [
        "И чтобы найти форму вашего массива, запустите:"
      ]
    },
    {
      "cell_type": "code",
      "metadata": {
        "id": "dwSDcXdwrSLr",
        "colab": {
          "base_uri": "https://localhost:8080/"
        },
        "outputId": "bc15b6c6-cd41-42c6-8fcc-1d9e070b0fba"
      },
      "source": [
        "a.shape"
      ],
      "execution_count": 29,
      "outputs": [
        {
          "output_type": "execute_result",
          "data": {
            "text/plain": [
              "(2, 3)"
            ]
          },
          "metadata": {},
          "execution_count": 29
        }
      ]
    },
    {
      "cell_type": "code",
      "metadata": {
        "id": "dpR6c6fIr5Il"
      },
      "source": [
        "array_example = np.array([[[0, 1, 2, 3],\n",
        "                           [4, 5, 6, 7]],\n",
        "\n",
        "                          [[0, 1, 2, 3],\n",
        "                           [4, 5, 6, 7]],\n",
        "\n",
        "                          [[0 ,1 ,2, 3],\n",
        "                           [4, 5, 6, 7]]])"
      ],
      "execution_count": 30,
      "outputs": []
    },
    {
      "cell_type": "code",
      "metadata": {
        "id": "nwyITPTgr6pN",
        "colab": {
          "base_uri": "https://localhost:8080/"
        },
        "outputId": "b3aa2ebe-356f-45b3-b933-ce724bbba5db"
      },
      "source": [
        "array_example.ndim"
      ],
      "execution_count": 31,
      "outputs": [
        {
          "output_type": "execute_result",
          "data": {
            "text/plain": [
              "3"
            ]
          },
          "metadata": {},
          "execution_count": 31
        }
      ]
    },
    {
      "cell_type": "code",
      "metadata": {
        "id": "bPgGtwjQr6rw",
        "colab": {
          "base_uri": "https://localhost:8080/"
        },
        "outputId": "e374acdb-9eff-4465-9f5f-73ebfcced5ad"
      },
      "source": [
        "array_example.size"
      ],
      "execution_count": 32,
      "outputs": [
        {
          "output_type": "execute_result",
          "data": {
            "text/plain": [
              "24"
            ]
          },
          "metadata": {},
          "execution_count": 32
        }
      ]
    },
    {
      "cell_type": "code",
      "metadata": {
        "id": "yJj39I-Er6vM",
        "colab": {
          "base_uri": "https://localhost:8080/"
        },
        "outputId": "6016546a-a73c-45a8-b84d-7a6cf721aeb1"
      },
      "source": [
        "array_example.shape"
      ],
      "execution_count": 33,
      "outputs": [
        {
          "output_type": "execute_result",
          "data": {
            "text/plain": [
              "(3, 2, 4)"
            ]
          },
          "metadata": {},
          "execution_count": 33
        }
      ]
    },
    {
      "cell_type": "markdown",
      "metadata": {
        "id": "Gh87hmz_RRhM"
      },
      "source": [
        "### Изменение формы массива"
      ]
    },
    {
      "cell_type": "markdown",
      "metadata": {
        "id": "PfQEPC6KL0eJ"
      },
      "source": [
        "Массивы можно переформировать при помощи метода, который задает новый многомерный массив. Следуя следующему примеру, мы переформатируем одномерный массив из 12 элементов в двумерный массив, состоящий из 4 строк и 3 столбцов:\n",
        "\n",
        "(метод reshape создает новый массив, а не модифицирует оригинальный)"
      ]
    },
    {
      "cell_type": "code",
      "metadata": {
        "id": "_hkGh1flLsX5",
        "colab": {
          "base_uri": "https://localhost:8080/"
        },
        "outputId": "6af190ba-798a-44da-e985-9c0e0a176d1c"
      },
      "source": [
        "a = np.array(range(12), float)\n",
        "a"
      ],
      "execution_count": 145,
      "outputs": [
        {
          "output_type": "execute_result",
          "data": {
            "text/plain": [
              "array([ 0.,  1.,  2.,  3.,  4.,  5.,  6.,  7.,  8.,  9., 10., 11.])"
            ]
          },
          "metadata": {},
          "execution_count": 145
        }
      ]
    },
    {
      "cell_type": "markdown",
      "metadata": {
        "id": "tbqxkggfsmxk"
      },
      "source": [
        "Когда вы используете метод reshape, массив, который вы хотите создать, должен иметь то же количество элементов, что и исходный массив. "
      ]
    },
    {
      "cell_type": "code",
      "metadata": {
        "id": "zzHK7fHFL1Zp",
        "colab": {
          "base_uri": "https://localhost:8080/"
        },
        "outputId": "da42d18f-0e3a-4e44-b56d-4ba53c49e6b2"
      },
      "source": [
        "a = a.reshape((4, 3))\n",
        "a"
      ],
      "execution_count": 146,
      "outputs": [
        {
          "output_type": "execute_result",
          "data": {
            "text/plain": [
              "array([[ 0.,  1.,  2.],\n",
              "       [ 3.,  4.,  5.],\n",
              "       [ 6.,  7.,  8.],\n",
              "       [ 9., 10., 11.]])"
            ]
          },
          "metadata": {},
          "execution_count": 146
        }
      ]
    },
    {
      "cell_type": "code",
      "metadata": {
        "id": "BYap22-ysqEf",
        "colab": {
          "base_uri": "https://localhost:8080/",
          "height": 182
        },
        "outputId": "5e30ec2a-f045-4d25-e1a4-d8f84fbc0297"
      },
      "source": [
        "# неверное количество элементов\n",
        "a.reshape((13))"
      ],
      "execution_count": 147,
      "outputs": [
        {
          "output_type": "error",
          "ename": "ValueError",
          "evalue": "ignored",
          "traceback": [
            "\u001b[0;31m---------------------------------------------------------------------------\u001b[0m",
            "\u001b[0;31mValueError\u001b[0m                                Traceback (most recent call last)",
            "\u001b[0;32m<ipython-input-147-2dada31058ec>\u001b[0m in \u001b[0;36m<module>\u001b[0;34m()\u001b[0m\n\u001b[1;32m      1\u001b[0m \u001b[0;31m# неверное количество элементов\u001b[0m\u001b[0;34m\u001b[0m\u001b[0;34m\u001b[0m\u001b[0;34m\u001b[0m\u001b[0m\n\u001b[0;32m----> 2\u001b[0;31m \u001b[0ma\u001b[0m\u001b[0;34m.\u001b[0m\u001b[0mreshape\u001b[0m\u001b[0;34m(\u001b[0m\u001b[0;34m(\u001b[0m\u001b[0;36m13\u001b[0m\u001b[0;34m)\u001b[0m\u001b[0;34m)\u001b[0m\u001b[0;34m\u001b[0m\u001b[0;34m\u001b[0m\u001b[0m\n\u001b[0m",
            "\u001b[0;31mValueError\u001b[0m: cannot reshape array of size 12 into shape (13,)"
          ]
        }
      ]
    },
    {
      "cell_type": "code",
      "metadata": {
        "id": "fMCej_ABtBxi"
      },
      "source": [
        "a = np.arange(6)"
      ],
      "execution_count": 148,
      "outputs": []
    },
    {
      "cell_type": "code",
      "metadata": {
        "id": "3ii-UFSEtC2k",
        "colab": {
          "base_uri": "https://localhost:8080/"
        },
        "outputId": "0ca626c6-2bcb-4ace-85be-f901c1a41d07"
      },
      "source": [
        "a.reshape(3, 2)"
      ],
      "execution_count": 149,
      "outputs": [
        {
          "output_type": "execute_result",
          "data": {
            "text/plain": [
              "array([[0, 1],\n",
              "       [2, 3],\n",
              "       [4, 5]])"
            ]
          },
          "metadata": {},
          "execution_count": 149
        }
      ]
    },
    {
      "cell_type": "markdown",
      "metadata": {
        "id": "L86CDWkyPJ1K"
      },
      "source": [
        "Можно сделать и обратное: конвертируем в одномерный"
      ]
    },
    {
      "cell_type": "code",
      "metadata": {
        "id": "r0NAUDH4tTxJ",
        "colab": {
          "base_uri": "https://localhost:8080/"
        },
        "outputId": "e6e90ec2-9c4d-48d4-c1d1-b8b125e3c82f"
      },
      "source": [
        "a.flatten()"
      ],
      "execution_count": 39,
      "outputs": [
        {
          "output_type": "execute_result",
          "data": {
            "text/plain": [
              "array([0, 1, 2, 3, 4, 5])"
            ]
          },
          "metadata": {},
          "execution_count": 39
        }
      ]
    },
    {
      "cell_type": "markdown",
      "source": [
        "или чуть более общий метод:"
      ],
      "metadata": {
        "id": "1GRYAIAI0JRY"
      }
    },
    {
      "cell_type": "code",
      "source": [
        "a.squeeze()"
      ],
      "metadata": {
        "colab": {
          "base_uri": "https://localhost:8080/"
        },
        "id": "BOdLS8A80CcW",
        "outputId": "4921cb66-e7f6-4c65-aafd-0dcf9f66f05a"
      },
      "execution_count": 150,
      "outputs": [
        {
          "output_type": "execute_result",
          "data": {
            "text/plain": [
              "array([0, 1, 2, 3, 4, 5])"
            ]
          },
          "metadata": {},
          "execution_count": 150
        }
      ]
    },
    {
      "cell_type": "markdown",
      "metadata": {
        "id": "NVUxkqH_RYiv"
      },
      "source": [
        "### Работа по ссылке"
      ]
    },
    {
      "cell_type": "markdown",
      "metadata": {
        "id": "BYnvAYIwMxX7"
      },
      "source": [
        "Работа по ссылке такая же как и в python:"
      ]
    },
    {
      "cell_type": "code",
      "metadata": {
        "id": "2fRtkuANL8xp",
        "colab": {
          "base_uri": "https://localhost:8080/"
        },
        "outputId": "b791ebbd-d0c3-40cd-b323-f4c19b114496"
      },
      "source": [
        "a = np.array([1, 2, 3])\n",
        "b = a\n",
        "c =  a.copy()\n",
        "\n",
        "# меняем 0й элемент\n",
        "a[0] = 0\n",
        "\n",
        "print(f'Измененный массив а {a}')\n",
        "print(f'Измененный массив b {b}  <-- изменился по ссылке т.к. поменяти 0й элемент а')\n",
        "print(f'Измененный массив c {c}  <-- создали копию в памяти')"
      ],
      "execution_count": 40,
      "outputs": [
        {
          "output_type": "stream",
          "name": "stdout",
          "text": [
            "Измененный массив а [0 2 3]\n",
            "Измененный массив b [0 2 3]  <-- изменился по ссылке т.к. поменяти 0й элемент а\n",
            "Измененный массив c [1 2 3]  <-- создали копию в памяти\n"
          ]
        }
      ]
    },
    {
      "cell_type": "markdown",
      "metadata": {
        "id": "4SlsERlpNzZ_"
      },
      "source": [
        "Можно преобразовать обратно в список:"
      ]
    },
    {
      "cell_type": "code",
      "metadata": {
        "id": "qyONlgzfM6-B",
        "colab": {
          "base_uri": "https://localhost:8080/"
        },
        "outputId": "0027c728-b676-4c5c-8163-8cf5930bbf25"
      },
      "source": [
        "a.tolist()"
      ],
      "execution_count": 41,
      "outputs": [
        {
          "output_type": "execute_result",
          "data": {
            "text/plain": [
              "[0, 2, 3]"
            ]
          },
          "metadata": {},
          "execution_count": 41
        }
      ]
    },
    {
      "cell_type": "markdown",
      "metadata": {
        "id": "GVxou0dVtYdO"
      },
      "source": [
        "### Как преобразовать одномерный массив в двумерный массив"
      ]
    },
    {
      "cell_type": "markdown",
      "source": [
        "При написании нейронок будет ОЧЕНЬ много возни с размерностями. Каждая нейронная сеть требует на вход каждого слоя массив с вполне конкретным шейпом и часто придется данные под эти требования подгонять, добавляя дополнительные dimы."
      ],
      "metadata": {
        "id": "K1cG-l_U1uMG"
      }
    },
    {
      "cell_type": "markdown",
      "metadata": {
        "id": "O3Zvcuf2teqp"
      },
      "source": [
        "Вы можете использовать np.newaxis или np.expand_dims для увеличения размеров вашего существующего массива. В торче для этого будет удобная функция torch.unsqueeze - об этом поговорим потом!\n",
        "\n",
        "Использование np.newaxis увеличит размеры вашего массива на одно измерение при использовании один раз. Это означает, что одномерный массив станет 2D- массивом, 2D- массив станет 3D- массивом и так далее."
      ]
    },
    {
      "cell_type": "code",
      "metadata": {
        "id": "yivYK3JktmLi",
        "colab": {
          "base_uri": "https://localhost:8080/"
        },
        "outputId": "9a04eb45-c075-4810-b9af-4d293d4c3b26"
      },
      "source": [
        "a = np.array([1, 2, 3, 4, 5, 6])\n",
        "a.shape"
      ],
      "execution_count": 42,
      "outputs": [
        {
          "output_type": "execute_result",
          "data": {
            "text/plain": [
              "(6,)"
            ]
          },
          "metadata": {},
          "execution_count": 42
        }
      ]
    },
    {
      "cell_type": "code",
      "metadata": {
        "colab": {
          "base_uri": "https://localhost:8080/"
        },
        "id": "Y8cTTETHJTdh",
        "outputId": "5b3e1e8a-029c-4c91-a120-0ecd5f40ffc9"
      },
      "source": [
        "a"
      ],
      "execution_count": 43,
      "outputs": [
        {
          "output_type": "execute_result",
          "data": {
            "text/plain": [
              "array([1, 2, 3, 4, 5, 6])"
            ]
          },
          "metadata": {},
          "execution_count": 43
        }
      ]
    },
    {
      "cell_type": "code",
      "metadata": {
        "id": "mJs2dG2GtwoH",
        "colab": {
          "base_uri": "https://localhost:8080/"
        },
        "outputId": "3be4cd7a-be67-4c33-cf14-0a8b89ebdc53"
      },
      "source": [
        "a2 = a[np.newaxis, :]\n",
        "a2.shape"
      ],
      "execution_count": 44,
      "outputs": [
        {
          "output_type": "execute_result",
          "data": {
            "text/plain": [
              "(1, 6)"
            ]
          },
          "metadata": {},
          "execution_count": 44
        }
      ]
    },
    {
      "cell_type": "code",
      "metadata": {
        "colab": {
          "base_uri": "https://localhost:8080/"
        },
        "id": "FkZtniAGJVnj",
        "outputId": "953040f8-ab52-43c3-95ea-5e58e1b2391d"
      },
      "source": [
        "a"
      ],
      "execution_count": 45,
      "outputs": [
        {
          "output_type": "execute_result",
          "data": {
            "text/plain": [
              "array([1, 2, 3, 4, 5, 6])"
            ]
          },
          "metadata": {},
          "execution_count": 45
        }
      ]
    },
    {
      "cell_type": "code",
      "metadata": {
        "id": "QFiX-hLQtzed",
        "colab": {
          "base_uri": "https://localhost:8080/"
        },
        "outputId": "598767fa-8a6f-41d7-aea9-8a6c9c8e37d0"
      },
      "source": [
        "a2"
      ],
      "execution_count": 46,
      "outputs": [
        {
          "output_type": "execute_result",
          "data": {
            "text/plain": [
              "array([[1, 2, 3, 4, 5, 6]])"
            ]
          },
          "metadata": {},
          "execution_count": 46
        }
      ]
    },
    {
      "cell_type": "markdown",
      "metadata": {
        "id": "vlkydU4kuAK8"
      },
      "source": [
        "Или, например, для вектора столбца, вы можете вставить ось вдоль второго измерения:\n",
        "\n"
      ]
    },
    {
      "cell_type": "code",
      "metadata": {
        "id": "T8dl6vO8uEAP",
        "colab": {
          "base_uri": "https://localhost:8080/"
        },
        "outputId": "c662236d-7c0e-4eeb-ffcc-4386086a9aed"
      },
      "source": [
        "col_vector = a[:, np.newaxis]\n",
        "col_vector.shape"
      ],
      "execution_count": 47,
      "outputs": [
        {
          "output_type": "execute_result",
          "data": {
            "text/plain": [
              "(6, 1)"
            ]
          },
          "metadata": {},
          "execution_count": 47
        }
      ]
    },
    {
      "cell_type": "code",
      "metadata": {
        "id": "CGh8JPxCuHJD",
        "colab": {
          "base_uri": "https://localhost:8080/"
        },
        "outputId": "42d2993d-2390-440e-d5e2-0c2651c059fa"
      },
      "source": [
        "col_vector"
      ],
      "execution_count": 48,
      "outputs": [
        {
          "output_type": "execute_result",
          "data": {
            "text/plain": [
              "array([[1],\n",
              "       [2],\n",
              "       [3],\n",
              "       [4],\n",
              "       [5],\n",
              "       [6]])"
            ]
          },
          "metadata": {},
          "execution_count": 48
        }
      ]
    },
    {
      "cell_type": "markdown",
      "metadata": {
        "id": "f-TSNVmFuQCY"
      },
      "source": [
        "Вы также можете расширить массив, вставив новую ось в указанной позиции с помощью np.expand_dims.\n",
        "\n",
        "Например, если вы начинаете с этого массива:"
      ]
    },
    {
      "cell_type": "code",
      "metadata": {
        "id": "tazDRJauuR6I",
        "colab": {
          "base_uri": "https://localhost:8080/"
        },
        "outputId": "57969973-ee2e-4570-fc82-c346fba4e019"
      },
      "source": [
        "a = np.array([1, 2, 3, 4, 5, 6])\n",
        "a"
      ],
      "execution_count": 151,
      "outputs": [
        {
          "output_type": "execute_result",
          "data": {
            "text/plain": [
              "array([1, 2, 3, 4, 5, 6])"
            ]
          },
          "metadata": {},
          "execution_count": 151
        }
      ]
    },
    {
      "cell_type": "code",
      "metadata": {
        "id": "hEJofjm5uVQf",
        "colab": {
          "base_uri": "https://localhost:8080/"
        },
        "outputId": "408f0d0d-35ac-4d03-f2d9-688c18618e10"
      },
      "source": [
        "a.shape"
      ],
      "execution_count": 50,
      "outputs": [
        {
          "output_type": "execute_result",
          "data": {
            "text/plain": [
              "(6,)"
            ]
          },
          "metadata": {},
          "execution_count": 50
        }
      ]
    },
    {
      "cell_type": "code",
      "metadata": {
        "id": "Kz9S2wMkudIx",
        "colab": {
          "base_uri": "https://localhost:8080/"
        },
        "outputId": "8e3a895d-85bd-4bfc-c61d-44006b475f78"
      },
      "source": [
        "b = np.expand_dims(a, axis=1)\n",
        "b.shape"
      ],
      "execution_count": 51,
      "outputs": [
        {
          "output_type": "execute_result",
          "data": {
            "text/plain": [
              "(6, 1)"
            ]
          },
          "metadata": {},
          "execution_count": 51
        }
      ]
    },
    {
      "cell_type": "code",
      "metadata": {
        "id": "dj_Fn37jufe1",
        "colab": {
          "base_uri": "https://localhost:8080/"
        },
        "outputId": "ec79c85c-b4a2-4124-de99-af908ba3a618"
      },
      "source": [
        "b"
      ],
      "execution_count": 52,
      "outputs": [
        {
          "output_type": "execute_result",
          "data": {
            "text/plain": [
              "array([[1],\n",
              "       [2],\n",
              "       [3],\n",
              "       [4],\n",
              "       [5],\n",
              "       [6]])"
            ]
          },
          "metadata": {},
          "execution_count": 52
        }
      ]
    },
    {
      "cell_type": "code",
      "metadata": {
        "id": "bMEkc6a2vGP-",
        "colab": {
          "base_uri": "https://localhost:8080/"
        },
        "outputId": "2bdaf480-f4ad-4983-e7a8-afd28909d711"
      },
      "source": [
        "c = np.expand_dims(a, axis=0)\n",
        "c.shape"
      ],
      "execution_count": 53,
      "outputs": [
        {
          "output_type": "execute_result",
          "data": {
            "text/plain": [
              "(1, 6)"
            ]
          },
          "metadata": {},
          "execution_count": 53
        }
      ]
    },
    {
      "cell_type": "code",
      "metadata": {
        "id": "uKAgsW7wvHSP",
        "colab": {
          "base_uri": "https://localhost:8080/"
        },
        "outputId": "d37bfa3e-d867-4c69-b242-2fb88627f1eb"
      },
      "source": [
        "c"
      ],
      "execution_count": 54,
      "outputs": [
        {
          "output_type": "execute_result",
          "data": {
            "text/plain": [
              "array([[1, 2, 3, 4, 5, 6]])"
            ]
          },
          "metadata": {},
          "execution_count": 54
        }
      ]
    },
    {
      "cell_type": "markdown",
      "metadata": {
        "id": "lNQkYyCUvN8P"
      },
      "source": [
        "Подробнее: \n",
        "\n",
        "[newaxis](https://numpy.org/devdocs/reference/arrays.indexing.html#arrays-indexing)\n",
        "[expand_dims](https://numpy.org/devdocs/reference/generated/numpy.expand_dims.html#numpy.expand_dims)\n"
      ]
    },
    {
      "cell_type": "markdown",
      "metadata": {
        "id": "bFRVFveSSFVK"
      },
      "source": [
        "### Объединение"
      ]
    },
    {
      "cell_type": "markdown",
      "metadata": {
        "id": "QzBNkHEAPK2R"
      },
      "source": [
        "Массивы можно объединять"
      ]
    },
    {
      "cell_type": "code",
      "metadata": {
        "id": "jZgJUAoLPK9h",
        "colab": {
          "base_uri": "https://localhost:8080/"
        },
        "outputId": "132b6e90-e7d6-4d45-bd32-5fa913b2438b"
      },
      "source": [
        "a = np.array([[1, 2], [3, 4]], float)\n",
        "b = np.array([[5, 6], [7,8]], float)\n",
        "np.concatenate((a,b))"
      ],
      "execution_count": 55,
      "outputs": [
        {
          "output_type": "execute_result",
          "data": {
            "text/plain": [
              "array([[1., 2.],\n",
              "       [3., 4.],\n",
              "       [5., 6.],\n",
              "       [7., 8.]])"
            ]
          },
          "metadata": {},
          "execution_count": 55
        }
      ]
    },
    {
      "cell_type": "markdown",
      "metadata": {
        "id": "9f1FZ4tLQYIk"
      },
      "source": [
        "Если массив не одномерный, можно задать ось, по которой будет происходить соединение. По умолчанию (не задавая значения оси), соединение будет происходить по первому измерению:"
      ]
    },
    {
      "cell_type": "code",
      "metadata": {
        "id": "KO3y970wQNUj",
        "colab": {
          "base_uri": "https://localhost:8080/"
        },
        "outputId": "8610256d-14cd-4d93-caf4-16f09f6ba511"
      },
      "source": [
        "np.concatenate((a,b), axis=0)"
      ],
      "execution_count": 56,
      "outputs": [
        {
          "output_type": "execute_result",
          "data": {
            "text/plain": [
              "array([[1., 2.],\n",
              "       [3., 4.],\n",
              "       [5., 6.],\n",
              "       [7., 8.]])"
            ]
          },
          "metadata": {},
          "execution_count": 56
        }
      ]
    },
    {
      "cell_type": "code",
      "metadata": {
        "id": "dBhKmrRVQQgq",
        "colab": {
          "base_uri": "https://localhost:8080/"
        },
        "outputId": "f386f391-bf45-419c-d937-184875f04fa1"
      },
      "source": [
        "np.concatenate((a,b), axis=1)"
      ],
      "execution_count": 57,
      "outputs": [
        {
          "output_type": "execute_result",
          "data": {
            "text/plain": [
              "array([[1., 2., 5., 6.],\n",
              "       [3., 4., 7., 8.]])"
            ]
          },
          "metadata": {},
          "execution_count": 57
        }
      ]
    },
    {
      "cell_type": "markdown",
      "source": [
        "Также почитайте про методы [stack](https://numpy.org/doc/stable/reference/generated/numpy.stack.html), [vstack](https://numpy.org/doc/stable/reference/generated/numpy.vstack.html), [hstack](https://numpy.org/doc/stable/reference/generated/numpy.hstack.html)."
      ],
      "metadata": {
        "id": "KRicVMMNqO8Q"
      }
    },
    {
      "cell_type": "markdown",
      "metadata": {
        "id": "X8TVElV5vlYr"
      },
      "source": [
        "### Условное индексирование"
      ]
    },
    {
      "cell_type": "markdown",
      "metadata": {
        "id": "7VoNsai4v-Oo"
      },
      "source": [
        "В numpy легко выделять элементы массива, удовлетворяющие заданным условиям. Например, рассмотрим такой массив:"
      ]
    },
    {
      "cell_type": "code",
      "metadata": {
        "id": "4ISxdfT0v_o8"
      },
      "source": [
        "a = np.array([1 , 2, 3, 4, 5, 6, 7, 8])"
      ],
      "execution_count": 63,
      "outputs": []
    },
    {
      "cell_type": "code",
      "metadata": {
        "id": "ICCRRjjrJ6HA",
        "colab": {
          "base_uri": "https://localhost:8080/"
        },
        "outputId": "f7ffd298-2789-474e-ba3f-caa5ee6b6ca4"
      },
      "source": [
        "a < 5"
      ],
      "execution_count": 64,
      "outputs": [
        {
          "output_type": "execute_result",
          "data": {
            "text/plain": [
              "array([ True,  True,  True,  True, False, False, False, False])"
            ]
          },
          "metadata": {},
          "execution_count": 64
        }
      ]
    },
    {
      "cell_type": "code",
      "metadata": {
        "id": "Vt62j7AIwAUy",
        "colab": {
          "base_uri": "https://localhost:8080/"
        },
        "outputId": "e7cc05d3-0b3d-4b9e-d4b4-4f1721bd8ef7"
      },
      "source": [
        "a[a < 5]"
      ],
      "execution_count": 65,
      "outputs": [
        {
          "output_type": "execute_result",
          "data": {
            "text/plain": [
              "array([1, 2, 3, 4])"
            ]
          },
          "metadata": {},
          "execution_count": 65
        }
      ]
    },
    {
      "cell_type": "markdown",
      "metadata": {
        "id": "gWflsjjjwN7W"
      },
      "source": [
        "Вы также можете выбрать, например, числа, которые равны или больше 5, и использовать это условие для индексации массива."
      ]
    },
    {
      "cell_type": "code",
      "metadata": {
        "id": "hOmj-A86wAYP"
      },
      "source": [
        "a = np.array([[1 , 2, 3, 4], [5, 6, 7, 8], [9, 10, 11, 12]])"
      ],
      "execution_count": 66,
      "outputs": []
    },
    {
      "cell_type": "code",
      "metadata": {
        "id": "bG7eY5DKwUqr",
        "colab": {
          "base_uri": "https://localhost:8080/"
        },
        "outputId": "92761907-cd1f-4a9c-decf-c0b4362519c6"
      },
      "source": [
        "five_up = (a >= 5)\n",
        "a[five_up]"
      ],
      "execution_count": 67,
      "outputs": [
        {
          "output_type": "execute_result",
          "data": {
            "text/plain": [
              "array([ 5,  6,  7,  8,  9, 10, 11, 12])"
            ]
          },
          "metadata": {},
          "execution_count": 67
        }
      ]
    },
    {
      "cell_type": "markdown",
      "metadata": {
        "id": "kRpsWAV5wcYD"
      },
      "source": [
        "Вы можете выбрать элементы, которые делятся на 2:"
      ]
    },
    {
      "cell_type": "code",
      "metadata": {
        "id": "Wc170tIgwe4l",
        "colab": {
          "base_uri": "https://localhost:8080/"
        },
        "outputId": "a46a8e9b-f228-4003-ac48-b9d23d288195"
      },
      "source": [
        "divisible_by_2 = a[a%2==0]\n",
        "divisible_by_2"
      ],
      "execution_count": 68,
      "outputs": [
        {
          "output_type": "execute_result",
          "data": {
            "text/plain": [
              "array([ 2,  4,  6,  8, 10, 12])"
            ]
          },
          "metadata": {},
          "execution_count": 68
        }
      ]
    },
    {
      "cell_type": "markdown",
      "metadata": {
        "id": "QCf1C93UwskE"
      },
      "source": [
        "Или вы можете выбрать элементы , которые удовлетворяют два условий с использованием & и | операторов:"
      ]
    },
    {
      "cell_type": "code",
      "metadata": {
        "id": "4zsdSvscwyn1",
        "colab": {
          "base_uri": "https://localhost:8080/"
        },
        "outputId": "57c42d7c-41f3-4334-8fa0-acf33ac5d9f0"
      },
      "source": [
        "c = a[(a > 2) & (a < 11)]\n",
        "c"
      ],
      "execution_count": 69,
      "outputs": [
        {
          "output_type": "execute_result",
          "data": {
            "text/plain": [
              "array([ 3,  4,  5,  6,  7,  8,  9, 10])"
            ]
          },
          "metadata": {},
          "execution_count": 69
        }
      ]
    },
    {
      "cell_type": "code",
      "metadata": {
        "id": "mYjfutMrw02O",
        "colab": {
          "base_uri": "https://localhost:8080/"
        },
        "outputId": "b6658807-a59a-4411-c741-141c72a5a1e0"
      },
      "source": [
        "c = a[(a < 2) | (a > 11)]\n",
        "c"
      ],
      "execution_count": 70,
      "outputs": [
        {
          "output_type": "execute_result",
          "data": {
            "text/plain": [
              "array([ 1, 12])"
            ]
          },
          "metadata": {},
          "execution_count": 70
        }
      ]
    },
    {
      "cell_type": "markdown",
      "metadata": {
        "id": "_OA_0-mOxErW"
      },
      "source": [
        "Вы также можете использовать логические операторы & и | чтобы вернуть логические значения, которые указывают, соответствуют ли значения в массиве определенному условию. Это может быть полезно для массивов, которые содержат имена или другие категориальные значения."
      ]
    },
    {
      "cell_type": "code",
      "metadata": {
        "id": "wnvcH9VwxHFw",
        "colab": {
          "base_uri": "https://localhost:8080/"
        },
        "outputId": "be067e4e-8ccf-4dbc-8005-cc15666487e4"
      },
      "source": [
        "five_up = (a > 5) | (a == 4)\n",
        "five_up"
      ],
      "execution_count": 71,
      "outputs": [
        {
          "output_type": "execute_result",
          "data": {
            "text/plain": [
              "array([[False, False, False,  True],\n",
              "       [False,  True,  True,  True],\n",
              "       [ True,  True,  True,  True]])"
            ]
          },
          "metadata": {},
          "execution_count": 71
        }
      ]
    },
    {
      "cell_type": "code",
      "metadata": {
        "id": "JNycpUKmxMpU",
        "colab": {
          "base_uri": "https://localhost:8080/"
        },
        "outputId": "682b5088-5daa-4742-e90c-d586230155af"
      },
      "source": [
        "a[five_up]"
      ],
      "execution_count": 72,
      "outputs": [
        {
          "output_type": "execute_result",
          "data": {
            "text/plain": [
              "array([ 4,  6,  7,  8,  9, 10, 11, 12])"
            ]
          },
          "metadata": {},
          "execution_count": 72
        }
      ]
    },
    {
      "cell_type": "markdown",
      "metadata": {
        "id": "2F75iTYfxcOC"
      },
      "source": [
        "Вы можете использовать np.nonzero()для печати индексы элементов, которые, например, меньше 5:"
      ]
    },
    {
      "cell_type": "code",
      "metadata": {
        "id": "QAgpwT5JxePn",
        "colab": {
          "base_uri": "https://localhost:8080/"
        },
        "outputId": "0b21508e-7df2-46e4-b2c5-cb34362c56f4"
      },
      "source": [
        "b = np.nonzero(a < 5)\n",
        "b"
      ],
      "execution_count": 73,
      "outputs": [
        {
          "output_type": "execute_result",
          "data": {
            "text/plain": [
              "(array([0, 0, 0, 0]), array([0, 1, 2, 3]))"
            ]
          },
          "metadata": {},
          "execution_count": 73
        }
      ]
    },
    {
      "cell_type": "markdown",
      "source": [
        "Метод np.where() возвращает индексы элементов массива, для которых выполнено условие, передающееся в аргументе (внимание! возвращается кортеж из двух элементов, индексы лежат в первом):"
      ],
      "metadata": {
        "id": "xB9RUSW-yasM"
      }
    },
    {
      "cell_type": "code",
      "source": [
        "a = np.array([1 , 2, 3, 4, 5, 6, 7, 8])\n",
        "np.where(a < 5)[0]"
      ],
      "metadata": {
        "colab": {
          "base_uri": "https://localhost:8080/"
        },
        "id": "IPujiVoGyuo4",
        "outputId": "08d5da89-a4e7-4d2f-b48b-11d8a571f30c"
      },
      "execution_count": 74,
      "outputs": [
        {
          "output_type": "execute_result",
          "data": {
            "text/plain": [
              "array([0, 1, 2, 3])"
            ]
          },
          "metadata": {},
          "execution_count": 74
        }
      ]
    },
    {
      "cell_type": "markdown",
      "metadata": {
        "id": "Q8kmSdoAxhVE"
      },
      "source": [
        "В этом примере был возвращен кортеж массивов: по одному для каждого измерения. Первый массив представляет индексы строк, в которых находятся эти значения, а второй массив представляет индексы столбцов, в которых находятся эти значения."
      ]
    },
    {
      "cell_type": "markdown",
      "metadata": {
        "id": "4LjjOwCaxpN4"
      },
      "source": [
        "Если вы хотите сгенерировать список координат, в которых существуют элементы, вы можете сжать массивы, перебрать список координат и распечатать их. Например:"
      ]
    },
    {
      "cell_type": "code",
      "metadata": {
        "id": "Hsm0KsU0xgno",
        "colab": {
          "base_uri": "https://localhost:8080/"
        },
        "outputId": "7d69458f-b75d-47d9-f1ff-06bd5e045a5f"
      },
      "source": [
        "list_of_coordinates= list(zip(b[0], b[1]))\n",
        "\n",
        "for coord in list_of_coordinates:\n",
        "    print(coord)"
      ],
      "execution_count": 75,
      "outputs": [
        {
          "output_type": "stream",
          "name": "stdout",
          "text": [
            "(0, 0)\n",
            "(0, 1)\n",
            "(0, 2)\n",
            "(0, 3)\n"
          ]
        }
      ]
    },
    {
      "cell_type": "markdown",
      "metadata": {
        "id": "Smfv09N2EbbB"
      },
      "source": [
        "### Математическая обработка массивов"
      ]
    },
    {
      "cell_type": "markdown",
      "metadata": {
        "id": "FrOOoctUyamV"
      },
      "source": [
        "Допустим, создали вы два массива, один называется «данные», а другой - «единицы». Тогда их можно складывать, вычитать, умножать (сейчас говорим про поэлементные операции)"
      ]
    },
    {
      "cell_type": "code",
      "metadata": {
        "id": "w-NZwjGzyfN_",
        "colab": {
          "base_uri": "https://localhost:8080/"
        },
        "outputId": "11da9071-e803-42bf-ac38-5dc59fd7456b"
      },
      "source": [
        "data = np.array([1, 2])\n",
        "ones = np.ones(2, dtype=int)\n",
        "data + ones"
      ],
      "execution_count": 76,
      "outputs": [
        {
          "output_type": "execute_result",
          "data": {
            "text/plain": [
              "array([2, 3])"
            ]
          },
          "metadata": {},
          "execution_count": 76
        }
      ]
    },
    {
      "cell_type": "code",
      "metadata": {
        "id": "9n5WErjvyfYM",
        "colab": {
          "base_uri": "https://localhost:8080/"
        },
        "outputId": "20320e8b-04ed-4881-b4fc-d8dc5959619d"
      },
      "source": [
        "data - ones"
      ],
      "execution_count": 77,
      "outputs": [
        {
          "output_type": "execute_result",
          "data": {
            "text/plain": [
              "array([0, 1])"
            ]
          },
          "metadata": {},
          "execution_count": 77
        }
      ]
    },
    {
      "cell_type": "code",
      "metadata": {
        "id": "Gm322Dvgymtx",
        "colab": {
          "base_uri": "https://localhost:8080/"
        },
        "outputId": "450c750c-6daa-4b37-e578-c1abf4d9a5f3"
      },
      "source": [
        "data * data"
      ],
      "execution_count": 78,
      "outputs": [
        {
          "output_type": "execute_result",
          "data": {
            "text/plain": [
              "array([1, 4])"
            ]
          },
          "metadata": {},
          "execution_count": 78
        }
      ]
    },
    {
      "cell_type": "code",
      "metadata": {
        "id": "rrQAMUIwynwZ",
        "colab": {
          "base_uri": "https://localhost:8080/"
        },
        "outputId": "7b583863-d3bc-429b-8394-1598e1679295"
      },
      "source": [
        "data / data"
      ],
      "execution_count": 79,
      "outputs": [
        {
          "output_type": "execute_result",
          "data": {
            "text/plain": [
              "array([1., 1.])"
            ]
          },
          "metadata": {},
          "execution_count": 79
        }
      ]
    },
    {
      "cell_type": "markdown",
      "metadata": {
        "id": "mBnS6hPZyuCO"
      },
      "source": [
        "Можно найти сумму всех элементов массива с помощью sum() (работает для массивов с любым количеством размерностей). "
      ]
    },
    {
      "cell_type": "code",
      "metadata": {
        "id": "xNXgryO9yo_o",
        "colab": {
          "base_uri": "https://localhost:8080/"
        },
        "outputId": "95234365-9bf7-4e19-9653-6dd90b72c58b"
      },
      "source": [
        "a = np.array([1, 2, 3, 4])\n",
        "\n",
        "a.sum()"
      ],
      "execution_count": 80,
      "outputs": [
        {
          "output_type": "execute_result",
          "data": {
            "text/plain": [
              "10"
            ]
          },
          "metadata": {},
          "execution_count": 80
        }
      ]
    },
    {
      "cell_type": "markdown",
      "metadata": {
        "id": "CBGadOsjyxs2"
      },
      "source": [
        "Можно найти суммы элементов в каждом из столбцов (или в каждой из строк)."
      ]
    },
    {
      "cell_type": "code",
      "metadata": {
        "id": "p6R4SRrDywba"
      },
      "source": [
        "b = np.array([[1, 1], [2, 2]])"
      ],
      "execution_count": 81,
      "outputs": []
    },
    {
      "cell_type": "code",
      "metadata": {
        "id": "dM-CD2p0yzyP",
        "colab": {
          "base_uri": "https://localhost:8080/"
        },
        "outputId": "2d545d23-0c31-4290-9f72-a69520c89fbb"
      },
      "source": [
        "b.sum(axis=0)"
      ],
      "execution_count": 82,
      "outputs": [
        {
          "output_type": "execute_result",
          "data": {
            "text/plain": [
              "array([3, 3])"
            ]
          },
          "metadata": {},
          "execution_count": 82
        }
      ]
    },
    {
      "cell_type": "code",
      "metadata": {
        "id": "FgsxoBk1y1R_",
        "colab": {
          "base_uri": "https://localhost:8080/"
        },
        "outputId": "5bb48cac-4b06-43cd-ce1f-5818c1ff50c3"
      },
      "source": [
        "b.sum(axis=1)"
      ],
      "execution_count": 83,
      "outputs": [
        {
          "output_type": "execute_result",
          "data": {
            "text/plain": [
              "array([2, 4])"
            ]
          },
          "metadata": {},
          "execution_count": 83
        }
      ]
    },
    {
      "cell_type": "markdown",
      "metadata": {
        "id": "PqF41fmly8oM"
      },
      "source": [
        "В некоторых случаях вам может понадобиться выполнить операцию между массивом и одним числом (также называемую операцией между вектором и скаляром) или между массивами двух разных размеров."
      ]
    },
    {
      "cell_type": "code",
      "metadata": {
        "id": "oY00Hrvyy3t3",
        "colab": {
          "base_uri": "https://localhost:8080/"
        },
        "outputId": "47b02a62-802f-405f-fef2-3b1e598262c5"
      },
      "source": [
        "data = np.array([1.0, 2.0])\n",
        "data * 1.6"
      ],
      "execution_count": 84,
      "outputs": [
        {
          "output_type": "execute_result",
          "data": {
            "text/plain": [
              "array([1.6, 3.2])"
            ]
          },
          "metadata": {},
          "execution_count": 84
        }
      ]
    },
    {
      "cell_type": "markdown",
      "metadata": {
        "id": "efJVsd02zECy"
      },
      "source": [
        "NumPy понимает, что умножение должно происходить с каждой ячейкой. Размеры вашего массива должны быть совместимы, например, когда размеры обоих массивов равны или когда один из них равен 1. Если размеры не совместимы, вы получите ValueError."
      ]
    },
    {
      "cell_type": "markdown",
      "metadata": {
        "id": "u_Nba6KNzKMW"
      },
      "source": [
        "### Полезные операции с массивами "
      ]
    },
    {
      "cell_type": "markdown",
      "metadata": {
        "id": "ngo9-G91zOLP"
      },
      "source": [
        "NumPy также выполняет функции агрегирования. В дополнение к min, max, sum, вы можете легко запустит mean, чтобы получить среднее значение, prod, получить результат умножения элементов, std, чтоб получить стандартное отклонение и многое другое."
      ]
    },
    {
      "cell_type": "code",
      "metadata": {
        "id": "VRan4hYAzeXK"
      },
      "source": [
        "data = np.array([1, 2, 3])"
      ],
      "execution_count": 85,
      "outputs": []
    },
    {
      "cell_type": "code",
      "metadata": {
        "id": "7jjFr71_zAO_",
        "colab": {
          "base_uri": "https://localhost:8080/"
        },
        "outputId": "43715da5-d1e3-474b-9543-62cd09034fef"
      },
      "source": [
        "data.max()"
      ],
      "execution_count": 86,
      "outputs": [
        {
          "output_type": "execute_result",
          "data": {
            "text/plain": [
              "3"
            ]
          },
          "metadata": {},
          "execution_count": 86
        }
      ]
    },
    {
      "cell_type": "code",
      "metadata": {
        "id": "ivRy4g2Azaj2",
        "colab": {
          "base_uri": "https://localhost:8080/"
        },
        "outputId": "aef74ff6-6058-4e5c-ca23-c73fbcdfae3d"
      },
      "source": [
        "data.min()"
      ],
      "execution_count": 87,
      "outputs": [
        {
          "output_type": "execute_result",
          "data": {
            "text/plain": [
              "1"
            ]
          },
          "metadata": {},
          "execution_count": 87
        }
      ]
    },
    {
      "cell_type": "code",
      "metadata": {
        "id": "bDveoxntzhec",
        "colab": {
          "base_uri": "https://localhost:8080/"
        },
        "outputId": "e8889d51-d44a-4443-d03c-1bb73e0be94a"
      },
      "source": [
        "data.sum()"
      ],
      "execution_count": 88,
      "outputs": [
        {
          "output_type": "execute_result",
          "data": {
            "text/plain": [
              "6"
            ]
          },
          "metadata": {},
          "execution_count": 88
        }
      ]
    },
    {
      "cell_type": "code",
      "metadata": {
        "id": "wQ1HZVTEzimR"
      },
      "source": [
        "a = np.array([[0.45053314, 0.17296777, 0.34376245, 0.5510652],\n",
        "              [0.54627315, 0.05093587, 0.40067661, 0.55645993],\n",
        "              [0.12697628, 0.82485143, 0.26590556, 0.56917101]])"
      ],
      "execution_count": 89,
      "outputs": []
    },
    {
      "cell_type": "markdown",
      "metadata": {
        "id": "GNBaP0Zyzt5I"
      },
      "source": [
        "Очень часто хочется собирать данные по ряду или столбцу. По умолчанию каждая функция агрегации NumPy возвращает агрегат всего массива. Чтобы найти сумму или минимум элементов в вашем массиве, запустите:"
      ]
    },
    {
      "cell_type": "markdown",
      "metadata": {
        "id": "DKAR1F9jzzVF"
      },
      "source": [
        "Любую из функций агрегирования можно применять по строкам или по столбцам. Например, вы можете найти минимальное значение в каждом столбце, указав axis=0."
      ]
    },
    {
      "cell_type": "code",
      "metadata": {
        "id": "vHdekANnzxok",
        "colab": {
          "base_uri": "https://localhost:8080/"
        },
        "outputId": "bb53c92f-d025-40fc-d8ab-3f177b7fb966"
      },
      "source": [
        "# минимальное по столбцам\n",
        "a.min(axis=0)"
      ],
      "execution_count": 92,
      "outputs": [
        {
          "output_type": "execute_result",
          "data": {
            "text/plain": [
              "array([0.12697628, 0.05093587, 0.26590556, 0.5510652 ])"
            ]
          },
          "metadata": {},
          "execution_count": 92
        }
      ]
    },
    {
      "cell_type": "code",
      "metadata": {
        "id": "Bzajg4utz1Q7",
        "colab": {
          "base_uri": "https://localhost:8080/"
        },
        "outputId": "911c12b8-9f46-483b-9aa6-26595d7f6059"
      },
      "source": [
        "# стандартное отклонение по столбцам\n",
        "a.std(axis=0)"
      ],
      "execution_count": 93,
      "outputs": [
        {
          "output_type": "execute_result",
          "data": {
            "text/plain": [
              "array([0.1794018 , 0.33973673, 0.05524104, 0.00759016])"
            ]
          },
          "metadata": {},
          "execution_count": 93
        }
      ]
    },
    {
      "cell_type": "code",
      "metadata": {
        "id": "PlZ1y1_jz2VN",
        "colab": {
          "base_uri": "https://localhost:8080/"
        },
        "outputId": "f37b6c75-9461-40c6-e694-79f26139c02d"
      },
      "source": [
        "# среднее по строкам\n",
        "a.mean(axis=1)"
      ],
      "execution_count": 94,
      "outputs": [
        {
          "output_type": "execute_result",
          "data": {
            "text/plain": [
              "array([0.37958214, 0.38858639, 0.44672607])"
            ]
          },
          "metadata": {},
          "execution_count": 94
        }
      ]
    },
    {
      "cell_type": "markdown",
      "metadata": {
        "id": "AqwEN3sY1ztL"
      },
      "source": [
        "### Генерация случайных чисел"
      ]
    },
    {
      "cell_type": "markdown",
      "metadata": {
        "id": "SOyPJfD214SN"
      },
      "source": [
        "Использование генерации случайных чисел является важной частью конфигурации и оценки многих алгоритмов численного и машинного обучения. Независимо от того, нужна ли вам случайная инициализация весов в искусственной нейронной сети, разделение данных на случайные наборы или случайное перемешивание набора данных, очень важно иметь возможность генерировать случайные числа (фактически, повторяемые псевдослучайные числа)."
      ]
    },
    {
      "cell_type": "markdown",
      "metadata": {
        "id": "1YYIQqWx15rd"
      },
      "source": [
        "Я рекомендую использовать модуль np.random для генерации случайных чисел. О необходимых методах можно почитать [тут](https://numpy.org/doc/1.16/reference/routines.random.html). Например, получить случайное число от 0 до 10 можно так:"
      ]
    },
    {
      "cell_type": "code",
      "metadata": {
        "id": "ztKEywaZ1mhG",
        "colab": {
          "base_uri": "https://localhost:8080/"
        },
        "outputId": "a52312f5-706b-4950-ff04-552fb5d4ed59"
      },
      "source": [
        "np.random.randint(10)"
      ],
      "execution_count": 155,
      "outputs": [
        {
          "output_type": "execute_result",
          "data": {
            "text/plain": [
              "2"
            ]
          },
          "metadata": {},
          "execution_count": 155
        }
      ]
    },
    {
      "cell_type": "markdown",
      "source": [
        "Можно генерировать целые матрицы случайных чисел:\n"
      ],
      "metadata": {
        "id": "Z6NMPCPA444K"
      }
    },
    {
      "cell_type": "code",
      "source": [
        "np.random.random((2,3))"
      ],
      "metadata": {
        "colab": {
          "base_uri": "https://localhost:8080/"
        },
        "id": "e7dye2fY4_fh",
        "outputId": "04d47fad-b8bc-41be-b952-1ffad4362b1f"
      },
      "execution_count": 156,
      "outputs": [
        {
          "output_type": "execute_result",
          "data": {
            "text/plain": [
              "array([[0.57638823, 0.76517418, 0.66952793],\n",
              "       [0.51657338, 0.63404864, 0.69485803]])"
            ]
          },
          "metadata": {},
          "execution_count": 156
        }
      ]
    },
    {
      "cell_type": "markdown",
      "metadata": {
        "id": "t3is3rNv2OBA"
      },
      "source": [
        "### Уникальные значения"
      ]
    },
    {
      "cell_type": "markdown",
      "metadata": {
        "id": "TGjNBeF-2TlE"
      },
      "source": [
        "Уникальные элементы в массиве ищутся с помощью np.unique.\n",
        "Например, для такого эррея:"
      ]
    },
    {
      "cell_type": "code",
      "metadata": {
        "id": "76Ccu0Th2GR1",
        "colab": {
          "base_uri": "https://localhost:8080/"
        },
        "outputId": "e65bfaef-b0c8-46f0-b229-1bc1874b429b"
      },
      "source": [
        "a = np.array([11, 11, 12, 13, 14, 15, 16, 17, 12, 13, 11, 14, 18, 19, 20])\n",
        "unique_values = np.unique(a)\n",
        "print(unique_values)"
      ],
      "execution_count": 157,
      "outputs": [
        {
          "output_type": "stream",
          "name": "stdout",
          "text": [
            "[11 12 13 14 15 16 17 18 19 20]\n"
          ]
        }
      ]
    },
    {
      "cell_type": "markdown",
      "metadata": {
        "id": "uJmzs9GZ2czr"
      },
      "source": [
        "Флаг return_index в аргументе np.unique() поможет получить индексы уникальных значений (самого первого из каждого уникального) в массиве NumPy."
      ]
    },
    {
      "cell_type": "code",
      "metadata": {
        "id": "4VcNk0T62VRK",
        "colab": {
          "base_uri": "https://localhost:8080/"
        },
        "outputId": "6058b555-41b9-4bff-94bf-1c1e663f1126"
      },
      "source": [
        "unique_values, indices_list = np.unique(a, return_index=True)\n",
        "print(indices_list)"
      ],
      "execution_count": 116,
      "outputs": [
        {
          "output_type": "stream",
          "name": "stdout",
          "text": [
            "[ 0  2  3  4  5  6  7 12 13 14]\n"
          ]
        }
      ]
    },
    {
      "cell_type": "markdown",
      "metadata": {
        "id": "SrD1nAtb2lC8"
      },
      "source": [
        "Флаг return_counts в аргументе np.unique() поможет получить частоту уникальных значений в массиве NumPy."
      ]
    },
    {
      "cell_type": "code",
      "metadata": {
        "id": "IFtWavqm2iDw",
        "colab": {
          "base_uri": "https://localhost:8080/"
        },
        "outputId": "d374c45a-14ec-4a0d-e68f-d303a2b5925c"
      },
      "source": [
        "unique_values, occurrence_count = np.unique(a, return_counts=True)\n",
        "print(occurrence_count)"
      ],
      "execution_count": 117,
      "outputs": [
        {
          "output_type": "stream",
          "name": "stdout",
          "text": [
            "[3 2 2 2 1 1 1 1 1 1]\n"
          ]
        }
      ]
    },
    {
      "cell_type": "markdown",
      "metadata": {
        "id": "gtLpYUJm2pja"
      },
      "source": [
        "Все работает и с массивами больших размеров."
      ]
    },
    {
      "cell_type": "code",
      "metadata": {
        "id": "EKs5firS2nrA"
      },
      "source": [
        "a_2d = np.array([[1, 2, 3, 4], [5, 6, 7, 8], [9, 10, 11, 12], [1, 2, 3, 4]])"
      ],
      "execution_count": 118,
      "outputs": []
    },
    {
      "cell_type": "code",
      "metadata": {
        "id": "4esSY0P72q0f",
        "colab": {
          "base_uri": "https://localhost:8080/"
        },
        "outputId": "bfaabdb4-a35a-403d-fc43-e2ccc3d6a5d6"
      },
      "source": [
        "unique_values = np.unique(a_2d)\n",
        "print(unique_values)"
      ],
      "execution_count": 119,
      "outputs": [
        {
          "output_type": "stream",
          "name": "stdout",
          "text": [
            "[ 1  2  3  4  5  6  7  8  9 10 11 12]\n"
          ]
        }
      ]
    },
    {
      "cell_type": "markdown",
      "metadata": {
        "id": "3FUzxOuZ20FT"
      },
      "source": [
        "### Транспонирование и изменение формы матрицы"
      ]
    },
    {
      "cell_type": "markdown",
      "source": [
        "Для транспонирования (отражения значений относительно диагонали) матрицы можно юзать методы np.transpose() (numpy.ndarray.T) или"
      ],
      "metadata": {
        "id": "jwvfCCCN6Iex"
      }
    },
    {
      "cell_type": "markdown",
      "metadata": {
        "id": "yWVD4aDF3G_p"
      },
      "source": [
        "Вы также можете использовать .transpose для реверса или изменения осей массива в соответствии с указанными вами значениями."
      ]
    },
    {
      "cell_type": "code",
      "metadata": {
        "id": "uJn-yLY83D6h",
        "colab": {
          "base_uri": "https://localhost:8080/"
        },
        "outputId": "a059e579-45b7-494b-945a-e993cc3721d6"
      },
      "source": [
        "arr = np.arange(6).reshape((2, 3))\n",
        "arr"
      ],
      "execution_count": 167,
      "outputs": [
        {
          "output_type": "execute_result",
          "data": {
            "text/plain": [
              "array([[0, 1, 2],\n",
              "       [3, 4, 5]])"
            ]
          },
          "metadata": {},
          "execution_count": 167
        }
      ]
    },
    {
      "cell_type": "code",
      "metadata": {
        "id": "MqZU2Sgw3KEu",
        "colab": {
          "base_uri": "https://localhost:8080/"
        },
        "outputId": "17c64b25-f7a1-47c8-9508-724d7b252a2c"
      },
      "source": [
        "arr.transpose()\n",
        "# или\n",
        "np.transpose(arr)"
      ],
      "execution_count": 168,
      "outputs": [
        {
          "output_type": "execute_result",
          "data": {
            "text/plain": [
              "array([[0, 3],\n",
              "       [1, 4],\n",
              "       [2, 5]])"
            ]
          },
          "metadata": {},
          "execution_count": 168
        }
      ]
    },
    {
      "cell_type": "code",
      "source": [
        "# еще проще\n",
        "arr.T"
      ],
      "metadata": {
        "colab": {
          "base_uri": "https://localhost:8080/"
        },
        "id": "DHOkunpE6ipa",
        "outputId": "766ed007-e778-4fd7-fdeb-1f9a703235cd"
      },
      "execution_count": 166,
      "outputs": [
        {
          "output_type": "execute_result",
          "data": {
            "text/plain": [
              "array([[0, 3],\n",
              "       [1, 4],\n",
              "       [2, 5]])"
            ]
          },
          "metadata": {},
          "execution_count": 166
        }
      ]
    },
    {
      "cell_type": "markdown",
      "metadata": {
        "id": "Boe9omVD3uLg"
      },
      "source": [
        "### Линейная алгебра"
      ]
    },
    {
      "cell_type": "markdown",
      "metadata": {
        "id": "ecpb20R-4EUA"
      },
      "source": [
        "Здесь может быть много непонятных слов - не пугаемся, большинство из этого нам все равно не пригодится. Если кому то будет интересно поподробнее узнать о свойствах/разложениях матриц - подходите и спрашивайте (либо пишите в тг/дискорд).\n",
        "\n",
        "Возведение в степень:\n",
        "\n",
        "linalg.matrix_power(M, n) - возводит матрицу в степень n.\n",
        "\n",
        "Разложения:\n",
        "* linalg.cholesky(a) - разложение Холецкого.\n",
        "\n",
        "* linalg.qr(a[, mode]) - QR разложение.\n",
        "\n",
        "* linalg.svd(a[, full_matrices, compute_uv]) - сингулярное разложение.\n",
        "\n",
        "Некоторые характеристики матриц:\n",
        "\n",
        "* linalg.eig(a) - собственные значения и собственные векторы.\n",
        "\n",
        "* linalg.norm(x[, ord, axis]) - норма вектора или оператора.\n",
        "\n",
        "* linalg.cond(x[, p]) - число обусловленности.\n",
        "\n",
        "* linalg.det(a) - определитель.\n",
        "\n",
        "* linalg.slogdet(a) - знак и логарифм определителя (для избежания переполнения, если сам определитель очень маленький).\n",
        "\n",
        "Системы уравнений:\n",
        "\n",
        "* linalg.solve(a, b) - решает систему линейных уравнений Ax = b.\n",
        "\n",
        "* linalg.tensorsolve(a, b[, axes]) - решает тензорную систему линейных уравнений Ax = b.\n",
        "\n",
        "* linalg.lstsq(a, b[, rcond]) - метод наименьших квадратов.\n",
        "\n",
        "* linalg.inv(a) - обратная матрица."
      ]
    },
    {
      "cell_type": "code",
      "metadata": {
        "id": "qdQ9GF_g3jC9"
      },
      "source": [
        "# часто встречающиеся операции\n",
        "a = np.arange(9).reshape((3,3))"
      ],
      "execution_count": 133,
      "outputs": []
    },
    {
      "cell_type": "code",
      "metadata": {
        "id": "S_YyIiMh4ah8"
      },
      "source": [
        "b = np.arange(9)[::-1].reshape((3,3))"
      ],
      "execution_count": 134,
      "outputs": []
    },
    {
      "cell_type": "code",
      "metadata": {
        "id": "J0B5t9je4eEg",
        "colab": {
          "base_uri": "https://localhost:8080/"
        },
        "outputId": "810e5f02-3bdf-4c89-8598-292c8754cc0a"
      },
      "source": [
        "a"
      ],
      "execution_count": 135,
      "outputs": [
        {
          "output_type": "execute_result",
          "data": {
            "text/plain": [
              "array([[0, 1, 2],\n",
              "       [3, 4, 5],\n",
              "       [6, 7, 8]])"
            ]
          },
          "metadata": {},
          "execution_count": 135
        }
      ]
    },
    {
      "cell_type": "code",
      "metadata": {
        "id": "pmQzCHOr4f-Q",
        "colab": {
          "base_uri": "https://localhost:8080/"
        },
        "outputId": "c8336e78-72f4-4097-e7eb-31c59132dc15"
      },
      "source": [
        "b"
      ],
      "execution_count": 136,
      "outputs": [
        {
          "output_type": "execute_result",
          "data": {
            "text/plain": [
              "array([[8, 7, 6],\n",
              "       [5, 4, 3],\n",
              "       [2, 1, 0]])"
            ]
          },
          "metadata": {},
          "execution_count": 136
        }
      ]
    },
    {
      "cell_type": "code",
      "metadata": {
        "id": "AbVJ1JNN4gG7",
        "colab": {
          "base_uri": "https://localhost:8080/"
        },
        "outputId": "46672bfc-96c6-4548-b5f8-f3a728b97248"
      },
      "source": [
        "# матричное перемножение\n",
        "a @ b"
      ],
      "execution_count": 137,
      "outputs": [
        {
          "output_type": "execute_result",
          "data": {
            "text/plain": [
              "array([[ 9,  6,  3],\n",
              "       [54, 42, 30],\n",
              "       [99, 78, 57]])"
            ]
          },
          "metadata": {},
          "execution_count": 137
        }
      ]
    },
    {
      "cell_type": "code",
      "metadata": {
        "id": "007niyf04jKH",
        "colab": {
          "base_uri": "https://localhost:8080/"
        },
        "outputId": "b12d0221-47ef-4e9e-ba7b-839757476c3a"
      },
      "source": [
        "# матрично-векторные операции\n",
        "a @ b[0]"
      ],
      "execution_count": 138,
      "outputs": [
        {
          "output_type": "execute_result",
          "data": {
            "text/plain": [
              "array([ 19,  82, 145])"
            ]
          },
          "metadata": {},
          "execution_count": 138
        }
      ]
    },
    {
      "cell_type": "markdown",
      "metadata": {
        "id": "7p4mk9vu43Wy"
      },
      "source": [
        "Аналогичный функционал есть и у функции np.dot"
      ]
    },
    {
      "cell_type": "code",
      "metadata": {
        "id": "17fLODIB4ol3",
        "colab": {
          "base_uri": "https://localhost:8080/"
        },
        "outputId": "625e273c-03ac-4c37-fe8f-040c7dd6d1a0"
      },
      "source": [
        "# матричное перемножение\n",
        "np.dot(a, b)"
      ],
      "execution_count": 139,
      "outputs": [
        {
          "output_type": "execute_result",
          "data": {
            "text/plain": [
              "array([[ 9,  6,  3],\n",
              "       [54, 42, 30],\n",
              "       [99, 78, 57]])"
            ]
          },
          "metadata": {},
          "execution_count": 139
        }
      ]
    },
    {
      "cell_type": "code",
      "metadata": {
        "id": "tNpQboOD4t8F",
        "colab": {
          "base_uri": "https://localhost:8080/"
        },
        "outputId": "717c8e2b-3595-42b2-eced-897ea5c77485"
      },
      "source": [
        "# матрично-векторные операции\n",
        "np.dot(a, b[0])"
      ],
      "execution_count": 140,
      "outputs": [
        {
          "output_type": "execute_result",
          "data": {
            "text/plain": [
              "array([ 19,  82, 145])"
            ]
          },
          "metadata": {},
          "execution_count": 140
        }
      ]
    },
    {
      "cell_type": "code",
      "metadata": {
        "id": "WQ-c2tU24wcP",
        "colab": {
          "base_uri": "https://localhost:8080/"
        },
        "outputId": "54181986-b72b-4eaa-d8ed-f1f9dd99e496"
      },
      "source": [
        "# скалярное произведение\n",
        "np.dot(a[0], b[0])"
      ],
      "execution_count": 141,
      "outputs": [
        {
          "output_type": "execute_result",
          "data": {
            "text/plain": [
              "19"
            ]
          },
          "metadata": {},
          "execution_count": 141
        }
      ]
    },
    {
      "cell_type": "code",
      "metadata": {
        "id": "YQDw2bm85N82",
        "colab": {
          "base_uri": "https://localhost:8080/"
        },
        "outputId": "52bd531b-301c-4d47-e9c3-5739cb93dc0f"
      },
      "source": [
        "a = np.random.randint(10, size = (6, 6))\n",
        "a"
      ],
      "execution_count": 142,
      "outputs": [
        {
          "output_type": "execute_result",
          "data": {
            "text/plain": [
              "array([[5, 6, 7, 9, 2, 9],\n",
              "       [3, 4, 1, 8, 8, 9],\n",
              "       [8, 5, 6, 0, 4, 5],\n",
              "       [9, 8, 2, 5, 1, 0],\n",
              "       [1, 8, 1, 6, 5, 2],\n",
              "       [5, 1, 5, 1, 2, 0]])"
            ]
          },
          "metadata": {},
          "execution_count": 142
        }
      ]
    },
    {
      "cell_type": "code",
      "metadata": {
        "id": "AloRcPvF5g4r",
        "colab": {
          "base_uri": "https://localhost:8080/"
        },
        "outputId": "d2b1ffa7-fd8c-4dd7-8bbe-ddb5a87b58d6"
      },
      "source": [
        "np.linalg.inv(a)"
      ],
      "execution_count": 143,
      "outputs": [
        {
          "output_type": "execute_result",
          "data": {
            "text/plain": [
              "array([[-0.04057547,  0.06313328,  0.00682645,  0.11127566, -0.11857625,\n",
              "         0.01519226],\n",
              "       [ 0.01298389, -0.08807482,  0.08841907,  0.00361133,  0.11686152,\n",
              "        -0.1314822 ],\n",
              "       [ 0.06887503, -0.08651598,  0.00329956, -0.09940244,  0.07113536,\n",
              "         0.14245259],\n",
              "       [ 0.04462198,  0.04598597, -0.15685892,  0.04442712, -0.01558846,\n",
              "         0.10190959],\n",
              "       [-0.09955183,  0.07950117,  0.00890491, -0.05370226,  0.06796571,\n",
              "         0.1206742 ],\n",
              "       [ 0.04892829,  0.02727981,  0.08957521, -0.01940764, -0.06687451,\n",
              "        -0.16030787]])"
            ]
          },
          "metadata": {},
          "execution_count": 143
        }
      ]
    },
    {
      "cell_type": "code",
      "metadata": {
        "id": "NKz33AuiT-6I",
        "outputId": "6935706b-6e0d-401d-dde3-753efa44a871",
        "colab": {
          "base_uri": "https://localhost:8080/"
        }
      },
      "source": [
        "a @ np.linalg.inv(a)"
      ],
      "execution_count": 144,
      "outputs": [
        {
          "output_type": "execute_result",
          "data": {
            "text/plain": [
              "array([[ 1.00000000e+00, -6.24500451e-17,  1.11022302e-16,\n",
              "         2.77555756e-17, -1.66533454e-16, -5.55111512e-17],\n",
              "       [ 2.28983499e-16,  1.00000000e+00,  0.00000000e+00,\n",
              "         5.55111512e-17, -1.66533454e-16, -2.77555756e-16],\n",
              "       [ 6.24500451e-17,  1.31838984e-16,  1.00000000e+00,\n",
              "         1.11022302e-16, -2.77555756e-16, -1.66533454e-16],\n",
              "       [ 1.38777878e-17,  5.55111512e-17,  6.59194921e-17,\n",
              "         1.00000000e+00, -1.11022302e-16, -1.38777878e-17],\n",
              "       [ 0.00000000e+00, -1.52655666e-16, -5.55111512e-17,\n",
              "         1.38777878e-17,  1.00000000e+00, -5.55111512e-17],\n",
              "       [-2.77555756e-17,  5.55111512e-17,  7.63278329e-17,\n",
              "         8.32667268e-17, -1.66533454e-16,  1.00000000e+00]])"
            ]
          },
          "metadata": {},
          "execution_count": 144
        }
      ]
    },
    {
      "cell_type": "markdown",
      "source": [
        "# Задачки (если вы все прочитали)"
      ],
      "metadata": {
        "id": "zrHKtZWpwkJ-"
      }
    },
    {
      "cell_type": "markdown",
      "source": [
        "1. На вход подается целое четное число a. Реализуйте код, создающий numpy массив из значений [0 .. a) с помощью функционала numpy. Полученный массив преобразуйте в массив из 2 столбцов (к форме (a/2, 2)). К полученной последовательности добавьте слева вектор столбец из единиц. Отобразите на экран.\n",
        "\n",
        "  Sample Input:\\\n",
        "  6\n",
        "\n",
        "  Sample Output:\n",
        "\n",
        "  [[1. 0. 1.]\\\n",
        "  [1. 2. 3.]\\\n",
        "  [1. 4. 5.]]"
      ],
      "metadata": {
        "id": "sJgtN2YFwnXi"
      }
    },
    {
      "cell_type": "code",
      "metadata": {
        "id": "mb_It1McT_1P"
      },
      "source": [
        "a = int(input())\n",
        "\n",
        "transformed = 42 ## делаем чета"
      ],
      "execution_count": 144,
      "outputs": []
    },
    {
      "cell_type": "markdown",
      "source": [
        "2. На вход подается numpy массив a и целое b. Возвращайте numpy массив, состоящий из индексов всех вхождений числа b в массив a.\n",
        "\n",
        "  Sample Input:\\\n",
        "  2, 3 2 1 0\n",
        "\n",
        "  Sample Output:\\\n",
        "  [1]"
      ],
      "metadata": {
        "id": "cvcXlqZa0vfk"
      }
    },
    {
      "cell_type": "code",
      "source": [
        "b, a = input().split(',')\n",
        "b = int(b)\n",
        "a = np.array([int(e) for e in a.split()])\n",
        "\n",
        "indexes = 42 ## опять чета делаем"
      ],
      "metadata": {
        "id": "ctnI0OjjwwrC"
      },
      "execution_count": 144,
      "outputs": []
    },
    {
      "cell_type": "markdown",
      "source": [
        "3. Написать функцию для подсчёта произведения ненулевых элементов на диагонали прямоугольной матрицы.\n",
        "Например, для X = np.array([[1, 0, 1], [2, 0, 2], [3, 0, 3], [4, 4, 4]]) ответом является 3. Если ненулевых элементов нет, функция должна возвращать None."
      ],
      "metadata": {
        "id": "8OVfLKq3_a-7"
      }
    },
    {
      "cell_type": "code",
      "source": [
        "X = np.array([[1, 0, 1], [2, 0, 2], [3, 0, 3], [4, 4, 4]])\n",
        "def nonzero_product(X):\n",
        "    return 42 ## пишем тут"
      ],
      "metadata": {
        "id": "2eZkxomE_avZ"
      },
      "execution_count": null,
      "outputs": []
    },
    {
      "cell_type": "markdown",
      "source": [
        "4. Далее потренеруемся в нормализации - штуке, которая часто используется в машинном обучении чтобы сделать данные однородными.\n",
        "Напиишите функцию, которая получает на вход матрицу и масштабирует каждый её столбец, а именно вычитает из столбца его среднее значение и делит столбец на стандартное отклонение. Для тестирования можно сгенерировать с помощью метода numpy.random.randint случайную матрицу и проверить на ней работу метода.  Убедитесь, что в функции не будет происходить деления на ноль."
      ],
      "metadata": {
        "id": "DZt04fu99viE"
      }
    },
    {
      "cell_type": "code",
      "source": [
        "np.random.seed(42) ## фиксируем сид для генератора случайных чисел \n",
        "                   ## чтобы они выдавались одинаковые при разных запусках\n",
        "\n",
        "mat = np.random.randint(0, 10, (2,3))\n",
        "print(mat)\n",
        "\n",
        "fixed_mat = np.full((2,3), 42) ## нормализуем тут"
      ],
      "metadata": {
        "colab": {
          "base_uri": "https://localhost:8080/"
        },
        "id": "3UTwwBtG-CjZ",
        "outputId": "15e095c1-1031-4b9d-d7e2-9c3fb9ce802c"
      },
      "execution_count": 175,
      "outputs": [
        {
          "output_type": "stream",
          "name": "stdout",
          "text": [
            "[[6 3 7]\n",
            " [4 6 9]]\n"
          ]
        }
      ]
    }
  ]
}